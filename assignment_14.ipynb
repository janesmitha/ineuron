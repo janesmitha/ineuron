{
 "cells": [
  {
   "cell_type": "markdown",
   "id": "fe44693e",
   "metadata": {},
   "source": [
    "1. What does RGBA stand for?"
   ]
  },
  {
   "cell_type": "code",
   "execution_count": null,
   "id": "c5eaf0fb",
   "metadata": {},
   "outputs": [],
   "source": [
    "RGBA tuples are 4-tuples where the respective tuple components represent red, green, blue, \n",
    "and alpha (opacity) values for a color"
   ]
  },
  {
   "cell_type": "markdown",
   "id": "efcde948",
   "metadata": {},
   "source": [
    "2. From the Pillow module, how do you get the RGBA value of any images"
   ]
  },
  {
   "cell_type": "code",
   "execution_count": null,
   "id": "db6f57c8",
   "metadata": {},
   "outputs": [],
   "source": [
    " from PIL import ImageColor\n",
    "    ImageColor.getcolor('red', 'RGBA')\n",
    "   (255, 0, 0, 255) ImageColor.getcolor('RED', 'RGBA')\n",
    "   (255, 0, 0, 255)\n",
    "    ImageColor.getcolor('Black', 'RGBA')\n",
    "   (0, 0, 0, 255)\n",
    "    ImageColor.getcolor('chocolate', 'RGBA')\n",
    "   (210, 105, 30, 255)\n",
    "    ImageColor.getcolor('CornflowerBlue', 'RGBA')\n",
    "   (100, 149, 237, 255)\n"
   ]
  },
  {
   "cell_type": "code",
   "execution_count": null,
   "id": "d1ff088e",
   "metadata": {},
   "outputs": [],
   "source": [
    "from PIL import Image\n",
    " catIm = Image.open('zophie.png')"
   ]
  },
  {
   "cell_type": "markdown",
   "id": "a9b86899",
   "metadata": {},
   "source": [
    "3. What is a box tuple, and how does it work?"
   ]
  },
  {
   "cell_type": "code",
   "execution_count": null,
   "id": "283a59e3",
   "metadata": {},
   "outputs": [],
   "source": [
    "The box.tuple submodule provides read-only access for the tuple userdata type.\n",
    "It allows, for a single tuple: selective retrieval of the field contents, retrieval of information about size,\n",
    "iteration over all the fields,\n",
    "and conversion to a Lua table.\n",
    "ex:box.tuple.new() #creates a box tuple\n",
    "    box.tuple.is() #checks whether the object is tuple"
   ]
  },
  {
   "cell_type": "markdown",
   "id": "fc405236",
   "metadata": {},
   "source": [
    "4. Use your image and load in notebook then, How can you find out the width and height of an\n",
    "Image object?"
   ]
  },
  {
   "cell_type": "code",
   "execution_count": null,
   "id": "7d8edd17",
   "metadata": {},
   "outputs": [],
   "source": [
    "we can get image width and height of an image object with opencv and pilow object\n",
    "The image size can be obtained as a tuple with the attribute shape of 'ndarray' in OpenCV and the attribute size of PIL.\n",
    "Image in Pillow (PIL). \n",
    " "
   ]
  },
  {
   "cell_type": "markdown",
   "id": "ac0168fc",
   "metadata": {},
   "source": [
    "5. What method would you call to get Image object for a 100×100 image, excluding the lower-left\n",
    "quarter of it?"
   ]
  },
  {
   "cell_type": "code",
   "execution_count": null,
   "id": "2dced4ef",
   "metadata": {},
   "outputs": [],
   "source": [
    "The crop() method on Image objects takes a box tuple and returns an Image object representing the cropped image"
   ]
  },
  {
   "cell_type": "markdown",
   "id": "4372ba51",
   "metadata": {},
   "source": [
    "6. After making changes to an Image object, how could you save it as an image file?"
   ]
  },
  {
   "cell_type": "code",
   "execution_count": null,
   "id": "fa9b2cde",
   "metadata": {},
   "outputs": [],
   "source": [
    "copy() method will return a new image object.the save() is used to save an image file"
   ]
  },
  {
   "cell_type": "markdown",
   "id": "b87e852b",
   "metadata": {},
   "source": [
    "7. What module contains Pillow’s shape-drawing code?"
   ]
  },
  {
   "cell_type": "code",
   "execution_count": null,
   "id": "cd843610",
   "metadata": {},
   "outputs": [],
   "source": [
    "ImageDraw module provide pillow shape drawing methods."
   ]
  },
  {
   "cell_type": "markdown",
   "id": "9e6d2588",
   "metadata": {},
   "source": [
    "8. Image objects do not have drawing methods. What kind of object does? How do you get this kind\n",
    "of object?"
   ]
  },
  {
   "cell_type": "code",
   "execution_count": null,
   "id": "72a90ea4",
   "metadata": {},
   "outputs": [],
   "source": [
    " ImageDraw objects have shape-drawing methods such as point(), line(), or rectangle().\n",
    "They are returned by passing the Image object to the ImageDraw.Draw() function."
   ]
  }
 ],
 "metadata": {
  "kernelspec": {
   "display_name": "Python 3 (ipykernel)",
   "language": "python",
   "name": "python3"
  },
  "language_info": {
   "codemirror_mode": {
    "name": "ipython",
    "version": 3
   },
   "file_extension": ".py",
   "mimetype": "text/x-python",
   "name": "python",
   "nbconvert_exporter": "python",
   "pygments_lexer": "ipython3",
   "version": "3.9.13"
  }
 },
 "nbformat": 4,
 "nbformat_minor": 5
}
