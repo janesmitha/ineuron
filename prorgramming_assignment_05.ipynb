{
 "cells": [
  {
   "cell_type": "markdown",
   "id": "92451714",
   "metadata": {},
   "source": [
    "1. Write a Python Program to Find LCM?\n"
   ]
  },
  {
   "cell_type": "code",
   "execution_count": 4,
   "id": "a10581c8",
   "metadata": {},
   "outputs": [
    {
     "name": "stdout",
     "output_type": "stream",
     "text": [
      "enter x:8\n",
      "enter y:10\n",
      "the lcm of : 8 and 10 is 40\n"
     ]
    }
   ],
   "source": [
    "def find_lcm(x,y):\n",
    "    #selecting greater number\n",
    "    if x>y:\n",
    "        greater=x\n",
    "    else:\n",
    "        greater=y\n",
    "    while(True):\n",
    "        if((greater%x == 0) and (greater%y == 0)):\n",
    "            lcm=greater\n",
    "            break\n",
    "        greater +=1\n",
    "    return lcm\n",
    "x=int(input(\"enter x:\"))\n",
    "y=int(input(\"enter y:\"))\n",
    "print(\"the lcm of :\",x,\"and\",y,\"is\",find_lcm(x,y))            \n",
    "    "
   ]
  },
  {
   "cell_type": "markdown",
   "id": "e8e0e555",
   "metadata": {},
   "source": [
    "\n",
    "2. Write a Python Program to Find HCF?"
   ]
  },
  {
   "cell_type": "code",
   "execution_count": 6,
   "id": "6b71b381",
   "metadata": {},
   "outputs": [
    {
     "name": "stdout",
     "output_type": "stream",
     "text": [
      "enter firstnumber20\n",
      "enter second number15\n",
      "the hcf of x and y is 5\n"
     ]
    }
   ],
   "source": [
    "#program to find hcf\n",
    "x=int(input(\"enter firstnumber\"))\n",
    "y=int(input(\"enter second number\"))\n",
    "#finding greater number\n",
    "if x>y:\n",
    "    x,y=y,x\n",
    "for i in range(1,x+1):\n",
    "    if ((x%i==0) and (y%i==0)):\n",
    "        hcf=i\n",
    "print(\"the hcf of x and y is\",hcf)        \n",
    "        "
   ]
  },
  {
   "cell_type": "markdown",
   "id": "ebccf12f",
   "metadata": {},
   "source": [
    "3. Write a Python Program to Convert Decimal to Binary, Octal and Hexadecimal?"
   ]
  },
  {
   "cell_type": "code",
   "execution_count": 9,
   "id": "e771d546",
   "metadata": {},
   "outputs": [
    {
     "name": "stdout",
     "output_type": "stream",
     "text": [
      "enter number23\n",
      "the binary format 0b10111\n",
      "the octal format 0o27\n",
      "the hexa format 0x17\n"
     ]
    }
   ],
   "source": [
    "dec=int(input(\"enter number\"))\n",
    "print(\"the binary format\",bin(dec))\n",
    "print(\"the octal format\",oct(dec))\n",
    "print(\"the hexa format\",hex(dec))"
   ]
  },
  {
   "cell_type": "markdown",
   "id": "121f9715",
   "metadata": {},
   "source": [
    "4. Write a Python Program To Find ASCII value of a character?"
   ]
  },
  {
   "cell_type": "code",
   "execution_count": 11,
   "id": "fd0b4f36",
   "metadata": {},
   "outputs": [
    {
     "name": "stdout",
     "output_type": "stream",
     "text": [
      "enter characterp\n",
      "ascii value of a character is: 112\n"
     ]
    }
   ],
   "source": [
    "ch=str(input(\"enter character\"))\n",
    "print(\"ascii value of a character is:\",ord(ch))"
   ]
  },
  {
   "cell_type": "markdown",
   "id": "7ebbfe9a",
   "metadata": {},
   "source": [
    "5. Write a Python Program to Make a Simple Calculator with 4 basic mathematical operations?"
   ]
  },
  {
   "cell_type": "code",
   "execution_count": 6,
   "id": "73d60f39",
   "metadata": {
    "scrolled": true
   },
   "outputs": [
    {
     "name": "stdout",
     "output_type": "stream",
     "text": [
      "select  which operation\n",
      "1.Add\n",
      "2.sub\n",
      "3.multiply\n",
      "4.division\n",
      "enter choice(1,2,3,4)1\n",
      "enter numberone2\n",
      "enter number two3\n",
      "addition of two numbers 5.0\n",
      "lets do calculation (yes/no):yes\n",
      "enter choice(1,2,3,4)2\n",
      "enter numberone2\n",
      "enter number two1\n",
      "substraction of two numbers 1.0\n",
      "lets do calculation (yes/no):3\n",
      "enter choice(1,2,3,4)3\n",
      "enter numberone3\n",
      "enter number two4\n",
      "multiplication of two numbers 12.0\n",
      "lets do calculation (yes/no):\n",
      "enter choice(1,2,3,4)\n",
      "invalid input\n",
      "enter choice(1,2,3,4)4\n",
      "enter numberone3\n",
      "enter number two2\n",
      "division of two numbers 1.5\n",
      "lets do calculation (yes/no):no\n"
     ]
    }
   ],
   "source": [
    "def add(x, y):\n",
    "    return x + y\n",
    "def sub(x, y):\n",
    "    return x - y\n",
    "def multiply(x, y):\n",
    "    return x * y \n",
    "def divide(x, y):\n",
    "    return x / y\n",
    "print(\"select  which operation\")\n",
    "print(\"1.Add\")\n",
    "print(\"2.sub\")\n",
    "print(\"3.multiply\")\n",
    "print(\"4.division\")\n",
    "while True:\n",
    "    select_option=input(\"enter choice(1,2,3,4)\")\n",
    "    if select_option in ('1','2','3','4'):\n",
    "        try:\n",
    "            num1=float(input(\"enter numberone\"))\n",
    "            num2=float(input(\"enter number two\"))\n",
    "        except ValueError:\n",
    "            print(\"enter properinput\")\n",
    "            continue\n",
    "            \n",
    "            \n",
    "        if select_option == '1':\n",
    "            print(\"addition of two numbers\",add(num1, num2))\n",
    "        elif select_option == '2':\n",
    "            print(\"substraction of two numbers\",sub(num1, num2))\n",
    "        elif select_option == '3':\n",
    "            print(\"multiplication of two numbers\",multiply(num1, num2))\n",
    "        elif select_option == '4':\n",
    "            print(\"division of two numbers\",divide(num1, num2))\n",
    "        next_cal=input(\"lets do calculation (yes/no):\")  \n",
    "        if next_cal == 'no':\n",
    "            break\n",
    "    else:\n",
    "        print(\"invalid input\")\n",
    "    \n",
    "                \n",
    "                \n",
    "            \n",
    "    \n"
   ]
  },
  {
   "cell_type": "markdown",
   "id": "7d1e598d",
   "metadata": {},
   "source": [
    "# "
   ]
  }
 ],
 "metadata": {
  "kernelspec": {
   "display_name": "Python 3 (ipykernel)",
   "language": "python",
   "name": "python3"
  },
  "language_info": {
   "codemirror_mode": {
    "name": "ipython",
    "version": 3
   },
   "file_extension": ".py",
   "mimetype": "text/x-python",
   "name": "python",
   "nbconvert_exporter": "python",
   "pygments_lexer": "ipython3",
   "version": "3.9.13"
  }
 },
 "nbformat": 4,
 "nbformat_minor": 5
}
