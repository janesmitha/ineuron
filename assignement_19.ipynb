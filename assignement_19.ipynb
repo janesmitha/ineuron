{
 "cells": [
  {
   "cell_type": "markdown",
   "id": "61b3292d",
   "metadata": {},
   "source": [
    "1. Make a class called Thing with no contents and print it. Then, create an object called example\n",
    "from this class and also print it. Are the printed values the same or different?\n"
   ]
  },
  {
   "cell_type": "code",
   "execution_count": 3,
   "id": "2402e4e8",
   "metadata": {},
   "outputs": [
    {
     "name": "stdout",
     "output_type": "stream",
     "text": [
      "<class '__main__.Thing'>\n",
      "<__main__.Thing object at 0x0000023740BB7670>\n"
     ]
    }
   ],
   "source": [
    "class Thing:\n",
    "    pass\n",
    "print(Thing)\n",
    "\n",
    "example=Thing()\n",
    "print(example)"
   ]
  },
  {
   "cell_type": "markdown",
   "id": "886b29d4",
   "metadata": {},
   "source": [
    "2. Create a new class called Thing2 and add the value &#39;abc&#39; to the letters class attribute. Letters\n",
    "should be printed."
   ]
  },
  {
   "cell_type": "code",
   "execution_count": 6,
   "id": "7c1d2de7",
   "metadata": {},
   "outputs": [
    {
     "name": "stdout",
     "output_type": "stream",
     "text": [
      "abc\n"
     ]
    }
   ],
   "source": [
    "class Thing2:\n",
    "    letters='abc'\n",
    "print(Thing2.letters)    \n"
   ]
  },
  {
   "cell_type": "markdown",
   "id": "2a3499be",
   "metadata": {},
   "source": [
    "3. Make yet another class called, of course, Thing3. This time, assign the value &#39;xyz&#39; to an instance\n",
    "(object) attribute called letters. Print letters. Do you need to make an object from the class to do\n",
    "this?"
   ]
  },
  {
   "cell_type": "code",
   "execution_count": 31,
   "id": "f65f8733",
   "metadata": {},
   "outputs": [
    {
     "name": "stdout",
     "output_type": "stream",
     "text": [
      "abc\n"
     ]
    }
   ],
   "source": [
    "class Thing3:\n",
    "    letters='abc'\n",
    "print(Thing3.letters) \n"
   ]
  },
  {
   "cell_type": "markdown",
   "id": "418032cd",
   "metadata": {},
   "source": [
    "4. Create an Element class with the instance attributes name, symbol, and number. Create a class\n",
    "object with the values &#39;Hydrogen,&#39; &#39;H,&#39; and 1."
   ]
  },
  {
   "cell_type": "code",
   "execution_count": 34,
   "id": "578ca4ff",
   "metadata": {},
   "outputs": [],
   "source": [
    "class Element:\n",
    "    def __init__(self,name,number,symbol):\n",
    "        self.name=name\n",
    "        self.number=number\n",
    "        self.symbol=symbol\n",
    "ele=Element('hydrogen','H',1)\n",
    "\n",
    "        "
   ]
  },
  {
   "cell_type": "markdown",
   "id": "6145278f",
   "metadata": {},
   "source": [
    "5. Make a dictionary with these keys and values: &#39;name&#39;: &#39;Hydrogen&#39;,\n",
    "&#39;symbol&#39;: &#39;H&#39;, &#39;number&#39;: 1. Then,\n",
    "create an object called hydrogen from class Element using this dictionary."
   ]
  },
  {
   "cell_type": "code",
   "execution_count": 38,
   "id": "fe895622",
   "metadata": {},
   "outputs": [
    {
     "name": "stdout",
     "output_type": "stream",
     "text": [
      "using differrent method: Hydrogen H 1\n",
      "Hydrogen H 1\n"
     ]
    }
   ],
   "source": [
    "my_dictionary={'name':'Hydrogen','symbol':'H','number':1}\n",
    "hydrogen=Element(**my_dictionary)\n",
    "hydrogen=Element(*my_dictionary.values())\n",
    "print(\"using differrent method:\",hydrogen.name,hydrogen.number,hydrogen.symbol)\n",
    "print(hydrogen.name,hydrogen.number,hydrogen.symbol)"
   ]
  },
  {
   "cell_type": "markdown",
   "id": "d1102867",
   "metadata": {},
   "source": [
    "6. For the Element class, define a method called dump() that prints the values of the object’s\n",
    "attributes (name, symbol, and number). Create the hydrogen object from this new definition and\n",
    "use dump() to print its attributes."
   ]
  },
  {
   "cell_type": "code",
   "execution_count": 43,
   "id": "24862000",
   "metadata": {},
   "outputs": [
    {
     "name": "stdout",
     "output_type": "stream",
     "text": [
      "Hydrogen H 2\n"
     ]
    }
   ],
   "source": [
    "class Element:\n",
    "    def __init__(self,name,symbol,number):\n",
    "        self.name=name\n",
    "        self.symbol=symbol\n",
    "        self.number=number\n",
    "    def dump(self):\n",
    "         print(self.name,self.symbol,self.number)\n",
    "hydrogen=Element('Hydrogen','H',2)        \n",
    "hydrogen.dump()       \n",
    "       \n",
    "       \n",
    "\n",
    " \n"
   ]
  },
  {
   "cell_type": "markdown",
   "id": "57b8d58a",
   "metadata": {},
   "source": [
    "7. Call print(hydrogen). In the definition of Element, change the name of method dump to __str__,\n",
    "create a new hydrogen object, and call print(hydrogen) again."
   ]
  },
  {
   "cell_type": "code",
   "execution_count": 50,
   "id": "4af77d00",
   "metadata": {},
   "outputs": [
    {
     "name": "stdout",
     "output_type": "stream",
     "text": [
      "<__main__.Element object at 0x00000230C965EA90>\n",
      "hydrogen  H 1\n"
     ]
    }
   ],
   "source": [
    "print(hydrogen)\n",
    "class Element:\n",
    "    def __init__(self,name,symbol,number):\n",
    "        self.name=name\n",
    "        self.symbol=symbol\n",
    "        self.number=number\n",
    "    def __str__(self):\n",
    "         return f'{self.name}  {self.symbol} {self.number}'\n",
    "Hydrogen=Element('hydrogen','H',1)\n",
    "print(Hydrogen)         \n",
    "\n"
   ]
  },
  {
   "cell_type": "markdown",
   "id": "d645fd4b",
   "metadata": {},
   "source": [
    "8. Modify Element to make the attributes name, symbol, and number private. Define a getter\n",
    "property for each to return its value."
   ]
  },
  {
   "cell_type": "code",
   "execution_count": 51,
   "id": "6f51799b",
   "metadata": {},
   "outputs": [
    {
     "name": "stdout",
     "output_type": "stream",
     "text": [
      "hydrogen\n",
      "2\n",
      "H\n"
     ]
    }
   ],
   "source": [
    "class Element:\n",
    "    def __init__(self,name,symbol,number):\n",
    "        self.__name=name\n",
    "        self.__symbol=symbol\n",
    "        self.__number=number\n",
    "    @property\n",
    "    def get_name(self):\n",
    "        return self.__name\n",
    "    @property\n",
    "    def get_symbol(self):\n",
    "        return self.__symbol\n",
    "    @property\n",
    "    def get_number(self):\n",
    "        return self.__number\n",
    "hydrogen=Element('hydrogen','H',2)\n",
    "print(hydrogen.get_name)\n",
    "print(hydrogen.get_number)\n",
    "print(hydrogen.get_symbol)                \n",
    "\n",
    "\n",
    "        \n",
    "        "
   ]
  },
  {
   "cell_type": "markdown",
   "id": "34bec5ff",
   "metadata": {},
   "source": [
    "9. Define three classes: Bear, Rabbit, and Octothorpe. For each, define only one method: eats(). This\n",
    "should return &#39;berries&#39; (Bear), &#39;clover&#39; (Rabbit), or &#39;campers&#39; (Octothorpe). Create one object from\n",
    "each and print what it eats."
   ]
  },
  {
   "cell_type": "code",
   "execution_count": 53,
   "id": "b6d6b444",
   "metadata": {},
   "outputs": [
    {
     "name": "stdout",
     "output_type": "stream",
     "text": [
      "berries\n",
      "clover\n",
      "Octothrope\n"
     ]
    }
   ],
   "source": [
    "class Bear:\n",
    "    def eats(self):\n",
    "        print('berries')\n",
    "    \n",
    "class Rabbit:\n",
    "    def eats(self):\n",
    "        print('clover')\n",
    "    pass\n",
    "class Octothrope:\n",
    "    def eats(self):\n",
    "        print('Octothrope')\n",
    "be=Bear()\n",
    "ra=Rabbit()\n",
    "oc=Octothrope()\n",
    "be.eats()\n",
    "ra.eats()\n",
    "oc.eats()"
   ]
  },
  {
   "cell_type": "markdown",
   "id": "6f251895",
   "metadata": {},
   "source": [
    "10. Define these classes: Laser, Claw, and SmartPhone. Each has only one method: does(). This\n",
    "returns &#39;disintegrate&#39; (Laser), &#39;crush&#39; (Claw), or &#39;ring&#39; (SmartPhone). Then, define the class Robot that\n",
    "has one instance (object) of each of these. Define a does() method for the Robot that prints what its\n",
    "component objects do."
   ]
  },
  {
   "cell_type": "code",
   "execution_count": 58,
   "id": "a271eace",
   "metadata": {},
   "outputs": [
    {
     "name": "stdout",
     "output_type": "stream",
     "text": [
      "disintegrate crush ring\n"
     ]
    }
   ],
   "source": [
    "class Laser:\n",
    "    def does(self):\n",
    "        return 'disintegrate'\n",
    "        \n",
    "class Claw:\n",
    "    def does(self):\n",
    "        return 'crush'\n",
    "        \n",
    "class SmartPhone:\n",
    "    def does(self):\n",
    "        return 'ring'\n",
    "class Robot:\n",
    "    def __init__(self):\n",
    "        self.laser=Laser()\n",
    "        self.claw=Claw()\n",
    "        self.smartphone=SmartPhone()\n",
    "    def does(self):\n",
    "        print(self.laser.does(),self.claw.does(),self.smartphone.does()) \n",
    "Ro=Robot()\n",
    "Ro.does()        \n",
    "\n",
    "\n",
    "    \n",
    "\n",
    "\n",
    "\n",
    "        "
   ]
  }
 ],
 "metadata": {
  "kernelspec": {
   "display_name": "Python 3 (ipykernel)",
   "language": "python",
   "name": "python3"
  },
  "language_info": {
   "codemirror_mode": {
    "name": "ipython",
    "version": 3
   },
   "file_extension": ".py",
   "mimetype": "text/x-python",
   "name": "python",
   "nbconvert_exporter": "python",
   "pygments_lexer": "ipython3",
   "version": "3.9.13"
  }
 },
 "nbformat": 4,
 "nbformat_minor": 5
}
