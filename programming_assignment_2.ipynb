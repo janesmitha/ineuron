{
 "cells": [
  {
   "cell_type": "markdown",
   "id": "6a7ffab5",
   "metadata": {},
   "source": [
    "1. Write a Python program to convert kilometers to miles?"
   ]
  },
  {
   "cell_type": "code",
   "execution_count": 1,
   "id": "45154312",
   "metadata": {},
   "outputs": [
    {
     "name": "stdout",
     "output_type": "stream",
     "text": [
      "enter number of kilometers5.6\n",
      "the value in miles are:3.4796776\n"
     ]
    }
   ],
   "source": [
    "kilometers=float(input(\"enter number of kilometers\"))\n",
    "conv = 0.621371\n",
    "miles=kilometers * conv\n",
    "print(f\"the value in miles are:{miles}\")"
   ]
  },
  {
   "cell_type": "markdown",
   "id": "5993f47e",
   "metadata": {},
   "source": [
    "2. Write a Python program to convert Celsius to Fahrenheit?"
   ]
  },
  {
   "cell_type": "code",
   "execution_count": 4,
   "id": "b6f4c9e5",
   "metadata": {},
   "outputs": [
    {
     "name": "stdout",
     "output_type": "stream",
     "text": [
      "enter celsius temperature23.5\n",
      "the fahrenheit is74.30000000000001\n"
     ]
    }
   ],
   "source": [
    "# Python Program to convert temperature in celsius to fahrenheit\n",
    "\n",
    "# change this value for a different result\n",
    "celsius = float(input(\"enter celsius temperature\"))\n",
    "if celsius<=37.5:\n",
    "    fahrenheit = (celsius * 1.8) + 32\n",
    "print(f\"the fahrenheit is{fahrenheit}\")\n",
    "      "
   ]
  },
  {
   "cell_type": "markdown",
   "id": "7b45a81a",
   "metadata": {},
   "source": [
    "3. Write a Python program to display calendar?"
   ]
  },
  {
   "cell_type": "code",
   "execution_count": 7,
   "id": "87a1d210",
   "metadata": {},
   "outputs": [
    {
     "name": "stdout",
     "output_type": "stream",
     "text": [
      "enter year2023\n",
      "enter month01\n",
      "the calender is :     January 2023\n",
      "Mo Tu We Th Fr Sa Su\n",
      "                   1\n",
      " 2  3  4  5  6  7  8\n",
      " 9 10 11 12 13 14 15\n",
      "16 17 18 19 20 21 22\n",
      "23 24 25 26 27 28 29\n",
      "30 31\n",
      "\n"
     ]
    }
   ],
   "source": [
    "import calendar\n",
    "year=int(input(\"enter year\"))\n",
    "month=int(input(\"enter month\"))\n",
    "print(\"the calender is :\",calendar.month(year,month))"
   ]
  },
  {
   "cell_type": "markdown",
   "id": "f13ac02c",
   "metadata": {},
   "source": [
    "4. Write a Python program to solve quadratic equation?"
   ]
  },
  {
   "cell_type": "code",
   "execution_count": 8,
   "id": "7f2b3917",
   "metadata": {},
   "outputs": [
    {
     "name": "stdout",
     "output_type": "stream",
     "text": [
      "Enter a: 3\n",
      "Enter b: 4\n",
      "Enter c: 2\n",
      "The solution are (-0.6666666666666666-0.47140452079103173j) and (-0.6666666666666666+0.47140452079103173j)\n"
     ]
    }
   ],
   "source": [
    "# import complex math module  \n",
    "import cmath  \n",
    "a = float(input('Enter a: '))  \n",
    "b = float(input('Enter b: '))  \n",
    "c = float(input('Enter c: '))  \n",
    "  \n",
    "# calculate the discriminant  \n",
    "d = (b**2) - (4*a*c)  \n",
    "  \n",
    "# find two solutions  \n",
    "sol1 = (-b-cmath.sqrt(d))/(2*a)  \n",
    "sol2 = (-b+cmath.sqrt(d))/(2*a)  \n",
    "print('The solution are {0} and {1}'.format(sol1,sol2))   \n"
   ]
  },
  {
   "cell_type": "code",
   "execution_count": 10,
   "id": "aca3cbe4",
   "metadata": {},
   "outputs": [
    {
     "name": "stdout",
     "output_type": "stream",
     "text": [
      "Enter a:4\n",
      "Enter b:3\n",
      "Enter c:2\n",
      "Complex Roots\n",
      "-0.375  + i 4.795831523312719\n",
      "-0.375  - i 4.795831523312719\n"
     ]
    }
   ],
   "source": [
    "import math  \n",
    "  \n",
    "  \n",
    "# function for finding roots  \n",
    "def findRoots(a, b, c):  \n",
    "  \n",
    "    dis_form = b * b - 4 * a * c  \n",
    "    sqrt_val = math.sqrt(abs(dis_form))  \n",
    "  \n",
    "  \n",
    "    if dis_form > 0:  \n",
    "        print(\" real and different roots \")  \n",
    "        print((-b + sqrt_val) / (2 * a))  \n",
    "        print((-b - sqrt_val) / (2 * a))  \n",
    "  \n",
    "    elif dis_form == 0:  \n",
    "        print(\" real and same roots\")  \n",
    "        print(-b / (2 * a))  \n",
    "  \n",
    "  \n",
    "    else:  \n",
    "        print(\"Complex Roots\")  \n",
    "        print(- b / (2 * a), \" + i\", sqrt_val)  \n",
    "        print(- b / (2 * a), \" - i\", sqrt_val)  \n",
    "a = int(input('Enter a:'))  \n",
    "b = int(input('Enter b:'))  \n",
    "c = int(input('Enter c:'))  \n",
    "  \n",
    "# If a is 0, then incorrect equation  \n",
    "if a == 0:  \n",
    "    print(\"Input correct quadratic equation\")\n",
    "else:  \n",
    "    findRoots(a, b, c)         "
   ]
  },
  {
   "cell_type": "markdown",
   "id": "a6fba0f4",
   "metadata": {},
   "source": [
    "5. Write a Python program to swap two variables without temp variable?"
   ]
  },
  {
   "cell_type": "code",
   "execution_count": 14,
   "id": "897d16ce",
   "metadata": {},
   "outputs": [
    {
     "name": "stdout",
     "output_type": "stream",
     "text": [
      "enter x:2\n",
      "enter y:3\n",
      "Before swapping: \n",
      "Value of x :  2.0  and y :  3.0\n",
      "After swapping: \n",
      "Value of x :  3.0  and y :  2.0\n"
     ]
    }
   ],
   "source": [
    "x = float(input(\"enter x:\"))\n",
    "y = float(input(\"enter y:\"))\n",
    " \n",
    "print (\"Before swapping: \")\n",
    "print(\"Value of x : \", x, \" and y : \", y)\n",
    " \n",
    "# Swap code\n",
    "x = x + y # x = 15.7, y = 10.3\n",
    "y = x - y # x = 15.7, y = 5.4\n",
    "x = x - y\n",
    " \n",
    "print (\"After swapping: \")\n",
    "print(\"Value of x : \", x, \" and y : \", y)"
   ]
  }
 ],
 "metadata": {
  "kernelspec": {
   "display_name": "Python 3 (ipykernel)",
   "language": "python",
   "name": "python3"
  },
  "language_info": {
   "codemirror_mode": {
    "name": "ipython",
    "version": 3
   },
   "file_extension": ".py",
   "mimetype": "text/x-python",
   "name": "python",
   "nbconvert_exporter": "python",
   "pygments_lexer": "ipython3",
   "version": "3.9.13"
  }
 },
 "nbformat": 4,
 "nbformat_minor": 5
}
