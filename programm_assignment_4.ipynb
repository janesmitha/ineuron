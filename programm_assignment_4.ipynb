{
 "cells": [
  {
   "cell_type": "markdown",
   "id": "c16ccc06",
   "metadata": {},
   "source": [
    "1. Write a Python Program to Find the Factorial of a Number?\n"
   ]
  },
  {
   "cell_type": "code",
   "execution_count": 8,
   "id": "b3c8bc6e",
   "metadata": {},
   "outputs": [
    {
     "name": "stdout",
     "output_type": "stream",
     "text": [
      "enter number6\n",
      "the factorial of  a 6 is 720\n"
     ]
    }
   ],
   "source": [
    "factorial=1\n",
    "num=int(input(\"enter number\"))\n",
    "if num<0:\n",
    "    print(\"no factorials for negative numbers\")\n",
    "elif num == 0:\n",
    "    print(\"factorrial for o is 1\")\n",
    "else:\n",
    "    for i in range(1, num + 1):\n",
    "        factorial=factorial*i\n",
    "    print(\"the factorial of  a\",num,\"is\",factorial)        "
   ]
  },
  {
   "cell_type": "markdown",
   "id": "0a1f60c0",
   "metadata": {},
   "source": [
    "2. Write a Python Program to Display the multiplication Table?"
   ]
  },
  {
   "cell_type": "code",
   "execution_count": 11,
   "id": "93a3d8bd",
   "metadata": {},
   "outputs": [
    {
     "name": "stdout",
     "output_type": "stream",
     "text": [
      "enter which number multplicationtable?12\n",
      "12 x 1 = 12\n",
      "12 x 2 = 24\n",
      "12 x 3 = 36\n",
      "12 x 4 = 48\n",
      "12 x 5 = 60\n",
      "12 x 6 = 72\n",
      "12 x 7 = 84\n",
      "12 x 8 = 96\n",
      "12 x 9 = 108\n",
      "12 x 10 = 120\n"
     ]
    }
   ],
   "source": [
    "num=int(input(\"enter which number multplicationtable?\"))\n",
    "for i in range(1,11):\n",
    "    print(num,'x',i,'=',num * i)\n",
    "        "
   ]
  },
  {
   "cell_type": "markdown",
   "id": "aac5f60c",
   "metadata": {},
   "source": [
    "3. Write a Python Program to Print the Fibonacci sequence?"
   ]
  },
  {
   "cell_type": "code",
   "execution_count": 7,
   "id": "0c91b27e",
   "metadata": {},
   "outputs": [],
   "source": [
    "from functools import lru_cache\n",
    "@lru_cache\n",
    "def fibonocci(num:int)->int:\n",
    "    if num<0:\n",
    "        print(\"incorrect input\")\n",
    "        return\n",
    "    elif num<2:\n",
    "        return num\n",
    "    return fibonocci(num - 1) + fibonocci(num -2)\n",
    "        \n"
   ]
  },
  {
   "cell_type": "code",
   "execution_count": 12,
   "id": "065d14cf",
   "metadata": {},
   "outputs": [
    {
     "name": "stdout",
     "output_type": "stream",
     "text": [
      "34\n"
     ]
    }
   ],
   "source": [
    "print(fibonocci(9))"
   ]
  },
  {
   "cell_type": "markdown",
   "id": "3ec7801d",
   "metadata": {},
   "source": [
    "4. Write a Python Program to Check Armstrong Number?"
   ]
  },
  {
   "cell_type": "code",
   "execution_count": 20,
   "id": "b2e2f409",
   "metadata": {},
   "outputs": [
    {
     "name": "stdout",
     "output_type": "stream",
     "text": [
      "enter a number45\n",
      "45 number is not armstrong number\n"
     ]
    }
   ],
   "source": [
    "#program to check armstrong number\n",
    "num=int(input(\"enter a number\"))\n",
    "order=len(str(num))#24=2*\n",
    "temp=num\n",
    "sum=0\n",
    "st_num=str(num)\n",
    "for i in st_num:\n",
    "    digit=temp%10\n",
    "    sum=digit ** order\n",
    "    temp=temp//10\n",
    "if(sum==num):\n",
    "    print(num,\"number is armstrong number\")\n",
    "else:\n",
    "    print(num,\"number is not armstrong number\")"
   ]
  },
  {
   "cell_type": "markdown",
   "id": "6cda6f9d",
   "metadata": {},
   "source": [
    "5. Write a Python Program to Find Armstrong Number in an Interval?"
   ]
  },
  {
   "cell_type": "code",
   "execution_count": 32,
   "id": "d101518c",
   "metadata": {},
   "outputs": [
    {
     "name": "stdout",
     "output_type": "stream",
     "text": [
      "enter lower value7\n",
      "enter upper value11\n",
      "7\n",
      "8\n",
      "9\n"
     ]
    }
   ],
   "source": [
    "#python program to check armstrong number in an interval\n",
    "lower_range=int(input(\"enter lower value\"))\n",
    "upper_range=int(input(\"enter upper value\"))\n",
    "for num in range(lower_range, upper_range+1):\n",
    "    #orderof number\n",
    "    order=len(str(num))\n",
    "    #initializing sum to zero\n",
    "    sum=0\n",
    "    temp=num\n",
    "    while temp>0:\n",
    "        digit=temp%10\n",
    "        sum=digit ** order\n",
    "        temp//=10\n",
    "    if num==sum:\n",
    "        print(num)\n",
    "        "
   ]
  },
  {
   "cell_type": "markdown",
   "id": "b6ee39c9",
   "metadata": {},
   "source": [
    "6. Write a Python Program to Find the Sum of Natural Numbers?"
   ]
  },
  {
   "cell_type": "code",
   "execution_count": 36,
   "id": "aa78d5bb",
   "metadata": {},
   "outputs": [
    {
     "name": "stdout",
     "output_type": "stream",
     "text": [
      "enter a number23\n",
      "the sum of natural numbers are: 276\n"
     ]
    }
   ],
   "source": [
    "#python program to find sum of natural numbers\n",
    "num=int(input(\"enter a number\"))\n",
    "sum=0\n",
    "#while loop to check sum is zero and reduce one number in each iteration\n",
    "while num>0:\n",
    "    sum=num+sum\n",
    "    num=num-1\n",
    "print(\"the sum of natural numbers are:\",sum)    \n",
    "    \n",
    "    \n",
    "    "
   ]
  }
 ],
 "metadata": {
  "kernelspec": {
   "display_name": "Python 3 (ipykernel)",
   "language": "python",
   "name": "python3"
  },
  "language_info": {
   "codemirror_mode": {
    "name": "ipython",
    "version": 3
   },
   "file_extension": ".py",
   "mimetype": "text/x-python",
   "name": "python",
   "nbconvert_exporter": "python",
   "pygments_lexer": "ipython3",
   "version": "3.9.13"
  }
 },
 "nbformat": 4,
 "nbformat_minor": 5
}
