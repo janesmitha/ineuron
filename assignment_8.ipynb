{
 "cells": [
  {
   "cell_type": "code",
   "execution_count": null,
   "id": "bfd58a32",
   "metadata": {},
   "outputs": [],
   "source": [
    "1. Is the Python Standard Library included with PyInputPlus?\n"
   ]
  },
  {
   "cell_type": "code",
   "execution_count": null,
   "id": "07eed67f",
   "metadata": {},
   "outputs": [],
   "source": [
    "ans:It is not included in pyInputPlus. we must install it using pip"
   ]
  },
  {
   "cell_type": "code",
   "execution_count": null,
   "id": "5a10474d",
   "metadata": {},
   "outputs": [],
   "source": [
    "2. Why is PyInputPlus commonly imported with import pyinputplus as pypi?\n"
   ]
  },
  {
   "cell_type": "code",
   "execution_count": null,
   "id": "76db4ef1",
   "metadata": {},
   "outputs": [],
   "source": [
    "ans: You can import the module with import pyinputplus as pyip so that \n",
    "you can enter a shorter name when calling the module’s functions\n",
    "\n"
   ]
  },
  {
   "cell_type": "code",
   "execution_count": null,
   "id": "7ae5a5c7",
   "metadata": {},
   "outputs": [],
   "source": [
    "3. How do you distinguish between inputInt() and inputFloat()?\n"
   ]
  },
  {
   "cell_type": "code",
   "execution_count": null,
   "id": "3899bed3",
   "metadata": {},
   "outputs": [],
   "source": [
    "ans:The difference is in the data-type when you use the first one the program expects an integer value as input\n",
    "    but in the latter it expects a float value i.e number containing a decimal"
   ]
  },
  {
   "cell_type": "code",
   "execution_count": null,
   "id": "2deac5fd",
   "metadata": {},
   "outputs": [],
   "source": [
    "4. Using PyInputPlus, how do you ensure that the user enters a whole number between 0 and 99?\n"
   ]
  },
  {
   "cell_type": "code",
   "execution_count": null,
   "id": "48689425",
   "metadata": {},
   "outputs": [],
   "source": [
    "Ans: By using pyip.inputint(min=0, max=99)\n",
    "\n"
   ]
  },
  {
   "cell_type": "code",
   "execution_count": null,
   "id": "7f1ad001",
   "metadata": {},
   "outputs": [],
   "source": [
    "5. What is transferred to the keyword arguments allowRegexes and blockRegexes?\n"
   ]
  },
  {
   "cell_type": "code",
   "execution_count": null,
   "id": "a1f945f6",
   "metadata": {},
   "outputs": [],
   "source": [
    "Ans: A list of regex strings that are either explicitly allowed or denied\n",
    "\n"
   ]
  },
  {
   "cell_type": "code",
   "execution_count": null,
   "id": "fabdb52a",
   "metadata": {},
   "outputs": [],
   "source": [
    "6. If a blank input is entered three times, what does inputStr(limit=3) do?\n"
   ]
  },
  {
   "cell_type": "code",
   "execution_count": null,
   "id": "f1cdebcb",
   "metadata": {},
   "outputs": [],
   "source": [
    "Ans: The function will raise RetryLimitException.\n",
    "\n"
   ]
  },
  {
   "cell_type": "code",
   "execution_count": null,
   "id": "cdbe4695",
   "metadata": {},
   "outputs": [],
   "source": [
    "7. If blank input is entered three times, what does inputStr(limit=3, default=&#39;hello&#39;) do?"
   ]
  },
  {
   "cell_type": "code",
   "execution_count": null,
   "id": "df620e0a",
   "metadata": {},
   "outputs": [],
   "source": [
    "Ans: . The function returns the value 'hello'\n",
    "\n"
   ]
  }
 ],
 "metadata": {
  "kernelspec": {
   "display_name": "Python 3 (ipykernel)",
   "language": "python",
   "name": "python3"
  },
  "language_info": {
   "codemirror_mode": {
    "name": "ipython",
    "version": 3
   },
   "file_extension": ".py",
   "mimetype": "text/x-python",
   "name": "python",
   "nbconvert_exporter": "python",
   "pygments_lexer": "ipython3",
   "version": "3.9.13"
  }
 },
 "nbformat": 4,
 "nbformat_minor": 5
}
