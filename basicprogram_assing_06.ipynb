{
 "cells": [
  {
   "cell_type": "markdown",
   "id": "03c203d4",
   "metadata": {},
   "source": [
    "1. Write a Python Program to Display Fibonacci Sequence Using Recursion?"
   ]
  },
  {
   "cell_type": "code",
   "execution_count": 8,
   "id": "370c9ba2",
   "metadata": {},
   "outputs": [
    {
     "name": "stdout",
     "output_type": "stream",
     "text": [
      "howmany numbers?6\n",
      "fibonoci sequence\n",
      "0\n",
      "1\n",
      "1\n",
      "2\n",
      "3\n",
      "5\n"
     ]
    }
   ],
   "source": [
    "def fibonoci_sequence(n):\n",
    "    if n<=1:\n",
    "        return n\n",
    "    else:\n",
    "        return(fibonoci_sequence(n-1) + fibonoci_sequence(n-2))\n",
    "nterms=int(input(\"howmany numbers?\"))    \n",
    "if nterms<=0:\n",
    "    print(\"pls enter positive integer\")\n",
    "else:\n",
    "    print(\"fibonoci sequence\")\n",
    "    for i in range(nterms):\n",
    "        print(fibonoci_sequence(i))\n",
    "    "
   ]
  },
  {
   "cell_type": "markdown",
   "id": "ab295e8c",
   "metadata": {},
   "source": [
    "2. Write a Python Program to Find Factorial of Number Using Recursion?"
   ]
  },
  {
   "cell_type": "code",
   "execution_count": 11,
   "id": "45457fc1",
   "metadata": {},
   "outputs": [
    {
     "name": "stdout",
     "output_type": "stream",
     "text": [
      "enter number7\n",
      "5040\n"
     ]
    }
   ],
   "source": [
    "def recursive_factorial(n):\n",
    "    if n == 1:\n",
    "        return n\n",
    "    else:\n",
    "        return n*recursive_factorial(n-1)\n",
    "num=int(input(\"enter number\"))\n",
    "if num<=0:\n",
    "    print(\"enter positive number\")\n",
    "elif num == 0:\n",
    "    print(\"factorial of a number is one\")\n",
    "else:\n",
    "    print(recursive_factorial(num))\n",
    "   \n",
    "    "
   ]
  },
  {
   "cell_type": "markdown",
   "id": "6a7240fe",
   "metadata": {},
   "source": [
    "3. Write a Python Program to calculate your Body Mass Index?"
   ]
  },
  {
   "cell_type": "code",
   "execution_count": 13,
   "id": "f9a7aab5",
   "metadata": {},
   "outputs": [
    {
     "name": "stdout",
     "output_type": "stream",
     "text": [
      "enter height5.1\n",
      "enter weight69\n",
      "26528.258362168403\n"
     ]
    }
   ],
   "source": [
    "#python program to calculate body mass index(BMI)\n",
    "height=float(input(\"enter height\"))\n",
    "weight=float(input(\"enter weight\"))\n",
    "bmi=weight/(height/100)**2\n",
    "print(f\"{bmi}\")"
   ]
  },
  {
   "cell_type": "markdown",
   "id": "630753a7",
   "metadata": {},
   "source": [
    "4. Write a Python Program to calculate the natural logarithm of any number?"
   ]
  },
  {
   "cell_type": "code",
   "execution_count": 15,
   "id": "cdc899b9",
   "metadata": {},
   "outputs": [
    {
     "name": "stdout",
     "output_type": "stream",
     "text": [
      "4\n",
      "natural logarithm of given number is:1.3862943611198906\n"
     ]
    }
   ],
   "source": [
    "#caliculating natural logarithm of number\n",
    "import math\n",
    "num=int(input())\n",
    "print(f\"natural logarithm of given number is:{math.log(num)}\")"
   ]
  },
  {
   "cell_type": "markdown",
   "id": "bff46f6c",
   "metadata": {},
   "source": [
    "5. Write a Python Program for cube sum of first n natural numbers?"
   ]
  },
  {
   "cell_type": "code",
   "execution_count": 3,
   "id": "96b20028",
   "metadata": {},
   "outputs": [
    {
     "name": "stdout",
     "output_type": "stream",
     "text": [
      "6\n",
      "441\n"
     ]
    }
   ],
   "source": [
    "#python program to cube sum of first n natural numbers\n",
    "def cube_sum(num):\n",
    "    sum=0\n",
    "    for i in range(1,num+1):\n",
    "        sum+=pow(i,3)\n",
    "    return sum\n",
    "num=int(input())\n",
    "print(cube_sum(num))\n",
    "    \n",
    "        "
   ]
  }
 ],
 "metadata": {
  "kernelspec": {
   "display_name": "Python 3 (ipykernel)",
   "language": "python",
   "name": "python3"
  },
  "language_info": {
   "codemirror_mode": {
    "name": "ipython",
    "version": 3
   },
   "file_extension": ".py",
   "mimetype": "text/x-python",
   "name": "python",
   "nbconvert_exporter": "python",
   "pygments_lexer": "ipython3",
   "version": "3.9.13"
  }
 },
 "nbformat": 4,
 "nbformat_minor": 5
}
