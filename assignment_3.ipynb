{
 "cells": [
  {
   "cell_type": "code",
   "execution_count": null,
   "id": "18a87d8a",
   "metadata": {},
   "outputs": [],
   "source": [
    "#1. Why are functions advantageous to have in your programs?"
   ]
  },
  {
   "cell_type": "code",
   "execution_count": null,
   "id": "509f099a",
   "metadata": {},
   "outputs": [],
   "source": [
    ">functions are used to code reusability\n",
    ">This functions can call from anywhere and also multiple time.\n",
    ">we can use functions in python for large task to be divided in to multiple functions so that programming can be easy\n"
   ]
  },
  {
   "cell_type": "code",
   "execution_count": null,
   "id": "1163832f",
   "metadata": {},
   "outputs": [],
   "source": [
    "#2. When does the code in a function run: when it&#39;s specified or when it&#39;s called?"
   ]
  },
  {
   "cell_type": "code",
   "execution_count": null,
   "id": "f8f6eb02",
   "metadata": {},
   "outputs": [],
   "source": [
    "function is a set of code which we can call at any time and anywhere just by calling the specific function"
   ]
  },
  {
   "cell_type": "code",
   "execution_count": null,
   "id": "4c9ede5f",
   "metadata": {},
   "outputs": [],
   "source": [
    "#3. What statement creates a function?"
   ]
  },
  {
   "cell_type": "code",
   "execution_count": null,
   "id": "f84309a3",
   "metadata": {},
   "outputs": [],
   "source": [
    "function can be created using def keyword\n",
    "    def functionname(*args):\n",
    "        return"
   ]
  },
  {
   "cell_type": "code",
   "execution_count": null,
   "id": "e513cc30",
   "metadata": {},
   "outputs": [],
   "source": [
    "#4. What is the difference between a function and a function call?"
   ]
  },
  {
   "cell_type": "code",
   "execution_count": null,
   "id": "cf51b29e",
   "metadata": {},
   "outputs": [],
   "source": [
    "function is a block of code which can used to solve a particular task and can be called from anywhere\n",
    "ex:\n",
    "    function add(a,b):\n",
    "        return a-b\n",
    "where as function call is code used to pass the control ofa function\n",
    "ex:\n",
    "    b=add(a,b)\n",
    "if we pass values to a,b if performs operation of a-b and prints the result"
   ]
  },
  {
   "cell_type": "code",
   "execution_count": null,
   "id": "d231492d",
   "metadata": {},
   "outputs": [],
   "source": [
    "#5. How many global scopes are there in a Python program? How many local scopes?"
   ]
  },
  {
   "cell_type": "code",
   "execution_count": null,
   "id": "67b27fd2",
   "metadata": {},
   "outputs": [],
   "source": [
    ">If variables are declared inside function body is called local scopes\n",
    ">If variables are declared outside the functionbody are called global scopes"
   ]
  },
  {
   "cell_type": "code",
   "execution_count": 4,
   "id": "477ab063",
   "metadata": {},
   "outputs": [],
   "source": [
    "#example for localscope\n",
    "def greeting():\n",
    "    message='hello'\n",
    "    print('local',message)"
   ]
  },
  {
   "cell_type": "code",
   "execution_count": 5,
   "id": "5337cd0e",
   "metadata": {},
   "outputs": [
    {
     "name": "stdout",
     "output_type": "stream",
     "text": [
      "local hello\n"
     ]
    }
   ],
   "source": [
    "greeting()"
   ]
  },
  {
   "cell_type": "code",
   "execution_count": 9,
   "id": "edd37b5b",
   "metadata": {},
   "outputs": [
    {
     "name": "stdout",
     "output_type": "stream",
     "text": [
      "local hello\n",
      "global hello\n"
     ]
    }
   ],
   "source": [
    "#example for global\n",
    "message='hello'\n",
    "def greeting():\n",
    "    #print('local',message)\n",
    "greeting()\n",
    "print('global',message)\n",
    "    "
   ]
  },
  {
   "cell_type": "code",
   "execution_count": null,
   "id": "283ca385",
   "metadata": {},
   "outputs": [],
   "source": [
    "#6. What happens to variables in a local scope when the function call returns?"
   ]
  },
  {
   "cell_type": "code",
   "execution_count": null,
   "id": "c195e220",
   "metadata": {},
   "outputs": [],
   "source": [
    "ans:when execution of a program teminates local scope variables will be destroyed"
   ]
  },
  {
   "cell_type": "code",
   "execution_count": null,
   "id": "a72c7ec4",
   "metadata": {},
   "outputs": [],
   "source": [
    "#7. What is the concept of a return value? Is it possible to have a return value in an expression?"
   ]
  },
  {
   "cell_type": "code",
   "execution_count": null,
   "id": "a192321e",
   "metadata": {},
   "outputs": [],
   "source": [
    "ans:return statement is  used to end the execution of a program and returns the result"
   ]
  },
  {
   "cell_type": "code",
   "execution_count": null,
   "id": "2d8f4f4e",
   "metadata": {},
   "outputs": [],
   "source": [
    "#8. If a function does not have a return statement, what is the return value of a call to that function?"
   ]
  },
  {
   "cell_type": "code",
   "execution_count": null,
   "id": "390a1827",
   "metadata": {},
   "outputs": [],
   "source": [
    "ans: If the function doesnot have a return statement then it returns none"
   ]
  },
  {
   "cell_type": "code",
   "execution_count": null,
   "id": "8300c60f",
   "metadata": {},
   "outputs": [],
   "source": [
    "#9. How do you make a function variable refer to the global variable?"
   ]
  },
  {
   "cell_type": "code",
   "execution_count": null,
   "id": "1f2e512a",
   "metadata": {},
   "outputs": [],
   "source": [
    "ans:We can use global keyword to refer to function variable as aglobal variable"
   ]
  },
  {
   "cell_type": "code",
   "execution_count": null,
   "id": "df6247be",
   "metadata": {},
   "outputs": [],
   "source": [
    "#10. What is the data type of None?"
   ]
  },
  {
   "cell_type": "code",
   "execution_count": null,
   "id": "a9a50d62",
   "metadata": {},
   "outputs": [],
   "source": [
    "None keyword is usedto refer to null value"
   ]
  },
  {
   "cell_type": "code",
   "execution_count": null,
   "id": "536d27ce",
   "metadata": {},
   "outputs": [],
   "source": [
    "#11. What does the sentence import areallyourpetsnamederic do?\n"
   ]
  },
  {
   "cell_type": "code",
   "execution_count": null,
   "id": "1011655c",
   "metadata": {},
   "outputs": [],
   "source": [
    "ans: generally import statement is used to download the modulename"
   ]
  },
  {
   "cell_type": "code",
   "execution_count": null,
   "id": "553037e4",
   "metadata": {},
   "outputs": [],
   "source": [
    "#12. If you had a bacon() feature in a spam module, what would you call it after importing spam?"
   ]
  },
  {
   "cell_type": "code",
   "execution_count": null,
   "id": "86ddb89b",
   "metadata": {},
   "outputs": [],
   "source": [
    "ans: we can call it as spam.bacon()"
   ]
  },
  {
   "cell_type": "code",
   "execution_count": null,
   "id": "46912263",
   "metadata": {},
   "outputs": [],
   "source": [
    "#13. What can you do to save a programme from crashing if it encounters an error?"
   ]
  },
  {
   "cell_type": "code",
   "execution_count": null,
   "id": "55882cc7",
   "metadata": {},
   "outputs": [],
   "source": [
    "ans: we need to place that line of code in try clause"
   ]
  },
  {
   "cell_type": "code",
   "execution_count": null,
   "id": "2282110e",
   "metadata": {},
   "outputs": [],
   "source": [
    "#14. What is the purpose of the try clause? What is the purpose of the except clause?"
   ]
  },
  {
   "cell_type": "code",
   "execution_count": null,
   "id": "59a3ab31",
   "metadata": {},
   "outputs": [],
   "source": [
    "ans: The code which causes error will enter in to try clause\n",
    "    where as if an error comes it enters in to except clause to execute the code\n",
    "    "
   ]
  }
 ],
 "metadata": {
  "kernelspec": {
   "display_name": "Python 3 (ipykernel)",
   "language": "python",
   "name": "python3"
  },
  "language_info": {
   "codemirror_mode": {
    "name": "ipython",
    "version": 3
   },
   "file_extension": ".py",
   "mimetype": "text/x-python",
   "name": "python",
   "nbconvert_exporter": "python",
   "pygments_lexer": "ipython3",
   "version": "3.9.13"
  }
 },
 "nbformat": 4,
 "nbformat_minor": 5
}
