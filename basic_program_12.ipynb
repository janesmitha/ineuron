{
 "cells": [
  {
   "cell_type": "markdown",
   "id": "d40a8bf2",
   "metadata": {},
   "source": [
    "1. Write a Python program to Extract Unique values dictionary values?\n"
   ]
  },
  {
   "cell_type": "code",
   "execution_count": 3,
   "id": "ff792049",
   "metadata": {},
   "outputs": [
    {
     "name": "stdout",
     "output_type": "stream",
     "text": [
      "The dictionary is : \n",
      "{'hello': [3, 4, 4, 5], 'you': [34, 3, 4, 1, 2], 'my': [56, 6, 77, 88]}\n",
      "The unique values are : \n",
      "[1, 2, 3, 4, 5, 6, 34, 56, 77, 88]\n"
     ]
    }
   ],
   "source": [
    "my_dict = {'hello':[3,4,4,5],\n",
    "           'you':[34,3,4,1,2],\n",
    "            'my':[56,6,77,88]}\n",
    "\n",
    "print(\"The dictionary is : \")\n",
    "print(my_dict)\n",
    "\n",
    "my_result = list(sorted({element for val in my_dict.values() for element in val}))\n",
    "\n",
    "print(\"The unique values are : \")\n",
    "print(my_result)"
   ]
  },
  {
   "cell_type": "markdown",
   "id": "e0149fa3",
   "metadata": {},
   "source": [
    "2. Write a Python program to find the sum of all items in a dictionary?"
   ]
  },
  {
   "cell_type": "code",
   "execution_count": 4,
   "id": "c6a65449",
   "metadata": {},
   "outputs": [
    {
     "name": "stdout",
     "output_type": "stream",
     "text": [
      "dictionary: {'key1': 344, 'key2': 233, 'key3': 56}\n",
      "sum: 633\n"
     ]
    }
   ],
   "source": [
    "dic={'key1':344,\n",
    "     'key2':233,\n",
    "      'key3':56}\n",
    "print(\"dictionary:\",dic)\n",
    "print(\"sum:\",sum(dic.values()))"
   ]
  },
  {
   "cell_type": "markdown",
   "id": "df26247f",
   "metadata": {},
   "source": [
    "3. Write a Python program to Merging two Dictionaries?"
   ]
  },
  {
   "cell_type": "code",
   "execution_count": 6,
   "id": "9c6843ed",
   "metadata": {},
   "outputs": [
    {
     "name": "stdout",
     "output_type": "stream",
     "text": [
      "before merging dictionary:\n",
      "{'Alex': 23, 'Ram': 34, 'meera': 12}\n",
      "{'jasmin': 13, 'mary': 14, 'manra': 32}\n",
      "After merging dictionary:\n",
      "{'Alex': 23, 'Ram': 34, 'meera': 12, 'jasmin': 13, 'mary': 14, 'manra': 32}\n"
     ]
    }
   ],
   "source": [
    "dic1={\"Alex\":23,\n",
    "      'Ram':34,\n",
    "       'meera':12}\n",
    "dic2={\"jasmin\":13,\n",
    "      'mary':14,\n",
    "       'manra':32}\n",
    "print(\"before merging dictionary:\")\n",
    "print(dic1)\n",
    "print(dic2)\n",
    "dic3=dic1.copy()\n",
    "for key,value in dic2.items():\n",
    "    dic3[key]=value\n",
    "print(\"After merging dictionary:\")\n",
    "print(dic3)\n"
   ]
  },
  {
   "cell_type": "markdown",
   "id": "9e257c9e",
   "metadata": {},
   "source": [
    "4. Write a Python program to convert key-values list to flat dictionary?"
   ]
  },
  {
   "cell_type": "code",
   "execution_count": 8,
   "id": "5272e1e5",
   "metadata": {},
   "outputs": [
    {
     "name": "stdout",
     "output_type": "stream",
     "text": [
      "Original dictionary:  {'day': [1, 2, 3], 'name': ['Mon', 'Tues', 'Wed']}\n",
      "FLATTENED DICTIONARY:  {1: 'Mon', 2: 'Tues', 3: 'Wed'}\n"
     ]
    }
   ],
   "source": [
    "dic= { \"day\": [1, 2, 3], \"name\": ['Mon', 'Tues', 'Wed' ] }\n",
    "print(\"Original dictionary: \",dic)\n",
    "\n",
    "# convert to flat dictionary\n",
    "\n",
    "flat_dic= dict(zip(dic[\"day\"], dic[\"name\"]))\n",
    "print(\"FLATTENED DICTIONARY: \", flat_dic)"
   ]
  },
  {
   "cell_type": "markdown",
   "id": "9645756e",
   "metadata": {},
   "source": [
    "5. Write a Python program to insertion at the beginning in OrderedDict?"
   ]
  },
  {
   "cell_type": "code",
   "execution_count": 10,
   "id": "5a309ecd",
   "metadata": {},
   "outputs": [
    {
     "name": "stdout",
     "output_type": "stream",
     "text": [
      "OrderedDict([('A', '120'), ('B', '230'), ('C', '45'), ('jasmin', 13), ('mary', 14), ('manra', 32)])\n"
     ]
    }
   ],
   "source": [
    "from collections import OrderedDict\n",
    "dic1=OrderedDict([('A','120'),('B','230'),('C','45')])\n",
    "insrt=OrderedDict([('D','200')])\n",
    "fina_result=OrderedDict(list(dic1.items())+list(dic2.items()))\n",
    "print(fina_result)"
   ]
  },
  {
   "cell_type": "markdown",
   "id": "e159c921",
   "metadata": {},
   "source": [
    "6. Write a Python program to check order of character in string using OrderedDict()?"
   ]
  },
  {
   "cell_type": "code",
   "execution_count": 18,
   "id": "88c954ac",
   "metadata": {},
   "outputs": [
    {
     "name": "stdout",
     "output_type": "stream",
     "text": [
      "The order of pattern is correct\n"
     ]
    }
   ],
   "source": [
    "from collections import OrderedDict\n",
    "def check_order(my_input, my_pattern):\n",
    "    my_dict = OrderedDict.fromkeys(my_input)\n",
    "    pattern_length = 0\n",
    "    for key,value in my_dict.items():\n",
    "        if (key == my_pattern[pattern_length]):\n",
    "            pattern_length = pattern_length + 1\n",
    "\n",
    "        if (pattern_length == (len(my_pattern))):\n",
    "            return 'The order of pattern is correct'\n",
    "\n",
    "    return 'The order of pattern is incorrect'\n",
    "my_input = 'Hello math'\n",
    "input_pattern = 'ma'\n",
    "print(check_order(my_input,input_pattern))"
   ]
  },
  {
   "cell_type": "markdown",
   "id": "17d24f2a",
   "metadata": {},
   "source": [
    "7. Write a Python program to sort Python Dictionaries by Key or Value?"
   ]
  },
  {
   "cell_type": "code",
   "execution_count": 21,
   "id": "728293af",
   "metadata": {},
   "outputs": [
    {
     "name": "stdout",
     "output_type": "stream",
     "text": [
      "sorting on the basis of keys\n",
      "(1, 43) (2, 9) (3, 8) (4, 23) (5, 10) (6, 77) \n",
      "sorting on the basis of values\n",
      "[(3, 8), (2, 9), (5, 10), (4, 23), (1, 43), (6, 77)]\n"
     ]
    }
   ],
   "source": [
    "key_value={}\n",
    "\n",
    "key_value[5] = 10      \n",
    "key_value[3] = 8\n",
    "key_value[6] = 77\n",
    "key_value[4] = 23\n",
    "key_value[2] = 9     \n",
    "key_value[1] = 43\n",
    " \n",
    "print(\"sorting on the basis of keys\")\n",
    "\n",
    "for i in sorted(key_value) :\n",
    "    print ((i, key_value[i]), end =\" \")\n",
    "print(\"\\nsorting on the basis of values\")\n",
    "print(sorted(key_value.items(), key=lambda keyval: (keyval[1], keyval[0])))"
   ]
  }
 ],
 "metadata": {
  "kernelspec": {
   "display_name": "Python 3 (ipykernel)",
   "language": "python",
   "name": "python3"
  },
  "language_info": {
   "codemirror_mode": {
    "name": "ipython",
    "version": 3
   },
   "file_extension": ".py",
   "mimetype": "text/x-python",
   "name": "python",
   "nbconvert_exporter": "python",
   "pygments_lexer": "ipython3",
   "version": "3.9.13"
  }
 },
 "nbformat": 4,
 "nbformat_minor": 5
}
