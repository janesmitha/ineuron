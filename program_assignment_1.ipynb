{
 "cells": [
  {
   "cell_type": "markdown",
   "id": "b338588f",
   "metadata": {},
   "source": [
    "1. Write a Python program to print &quot;Hello Python&quot;?\n"
   ]
  },
  {
   "cell_type": "code",
   "execution_count": 1,
   "id": "ce1d5e0f",
   "metadata": {},
   "outputs": [
    {
     "name": "stdout",
     "output_type": "stream",
     "text": [
      "Hello python\n"
     ]
    }
   ],
   "source": [
    "print(\"Hello python\")"
   ]
  },
  {
   "cell_type": "markdown",
   "id": "8be9463a",
   "metadata": {},
   "source": [
    "2. Write a Python program to do arithmetical operations addition and division.?"
   ]
  },
  {
   "cell_type": "code",
   "execution_count": 1,
   "id": "939917b5",
   "metadata": {},
   "outputs": [
    {
     "name": "stdout",
     "output_type": "stream",
     "text": [
      "enter number6\n",
      "enter number3\n",
      "sum of two numbers is9\n",
      "sum of two numbers is3\n",
      "sum of two numbers is3\n",
      "sum of two numbers is2.0\n"
     ]
    }
   ],
   "source": [
    "num1=int(input(\"enter number\"))\n",
    "num2=int(input(\"enter number\"))\n",
    "sum = num1 +num2\n",
    "min = num1-num2\n",
    "mul = num1-num2\n",
    "div = num1/num2\n",
    "print(f\"sum of two numbers is{sum}\")\n",
    "print(f\"sum of two numbers is{min}\")\n",
    "print(f\"sum of two numbers is{mul}\")\n",
    "print(f\"sum of two numbers is{div}\")"
   ]
  },
  {
   "cell_type": "markdown",
   "id": "ffed21df",
   "metadata": {},
   "source": [
    "3. Write a Python program to find the area of a triangle?"
   ]
  },
  {
   "cell_type": "code",
   "execution_count": 7,
   "id": "0e9db29d",
   "metadata": {},
   "outputs": [
    {
     "name": "stdout",
     "output_type": "stream",
     "text": [
      "enter first side4\n",
      "enter second side5\n",
      "enter third side3\n",
      "area of a triangle is 53.05951846747198 53.06\n"
     ]
    }
   ],
   "source": [
    "import math\n",
    "a=int(input(\"enter first side\"))\n",
    "b=int(input(\"enter second side\"))\n",
    "c= int(input(\"enter third side\"))\n",
    "s=a+b+c/2\n",
    "area=math.sqrt(s*(s-a)*(s-b)*(s-c))\n",
    "print(f\"area of a triangle is {area}\",round(area,2))\n"
   ]
  },
  {
   "cell_type": "markdown",
   "id": "5b246037",
   "metadata": {},
   "source": [
    "4. Write a Python program to swap two variables?"
   ]
  },
  {
   "cell_type": "code",
   "execution_count": 9,
   "id": "11841064",
   "metadata": {},
   "outputs": [
    {
     "name": "stdout",
     "output_type": "stream",
     "text": [
      "enter first number4\n",
      "enter secong number7\n",
      "the value of num1 is 7\n",
      "the value of num1 is 4\n"
     ]
    }
   ],
   "source": [
    "num1=int(input(\"enter first number\"))\n",
    "num2=int(input(\"enter secong number\"))\n",
    "temp=num1\n",
    "num1=num2\n",
    "num2=temp\n",
    "print(f\"the value of num1 is\",num1)\n",
    "print(f\"the value of num1 is\",num2)"
   ]
  },
  {
   "cell_type": "markdown",
   "id": "eecb2a83",
   "metadata": {},
   "source": [
    "5. Write a Python program to generate a random number?"
   ]
  },
  {
   "cell_type": "code",
   "execution_count": 11,
   "id": "3477a65d",
   "metadata": {},
   "outputs": [
    {
     "name": "stdout",
     "output_type": "stream",
     "text": [
      "149\n"
     ]
    }
   ],
   "source": [
    "import random\n",
    "n=random.randint(100,200)\n",
    "print(n)"
   ]
  }
 ],
 "metadata": {
  "kernelspec": {
   "display_name": "Python 3 (ipykernel)",
   "language": "python",
   "name": "python3"
  },
  "language_info": {
   "codemirror_mode": {
    "name": "ipython",
    "version": 3
   },
   "file_extension": ".py",
   "mimetype": "text/x-python",
   "name": "python",
   "nbconvert_exporter": "python",
   "pygments_lexer": "ipython3",
   "version": "3.9.13"
  }
 },
 "nbformat": 4,
 "nbformat_minor": 5
}
