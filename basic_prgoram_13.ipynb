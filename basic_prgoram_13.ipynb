{
 "cells": [
  {
   "cell_type": "code",
   "execution_count": null,
   "id": "f3592878",
   "metadata": {},
   "outputs": [],
   "source": [
    "Question 1:\n",
    "Write a program that calculates and prints the value according to the given formula:\n",
    "Q = Square root of [(2 * C * D)/H]\n",
    "Following are the fixed values of C and H:\n",
    "C is 50. H is 30.\n",
    "D is the variable whose values should be input to your program in a comma-separated\n",
    "sequence.\n",
    "Example\n",
    "Let us assume the following comma separated input sequence is given to the program:\n",
    "100,150,180\n",
    "The output of the program should be:\n",
    "18,22,24"
   ]
  },
  {
   "cell_type": "code",
   "execution_count": null,
   "id": "b27d439a",
   "metadata": {},
   "outputs": [],
   "source": [
    "import math\n",
    "c=50\n",
    "H=30\n",
    "i=[x for x in input().split(',')]\n",
    "s=[]\n",
    "for d in i:\n",
    "    s.append(str(int(round(math.sqrt(2*c*float(d))/H))))\n",
    "print(','.join(s))    \n",
    "    "
   ]
  },
  {
   "cell_type": "code",
   "execution_count": null,
   "id": "9bbce89a",
   "metadata": {},
   "outputs": [],
   "source": [
    "Question 2:\n",
    "Write a program which takes 2 digits, X,Y as input and generates a 2-dimensional array. The\n",
    "element value in the i-th row and j-th column of the array should be i*j.\n",
    "Note: i=0,1.., X-1; j=0,1,¡Y-1.\n",
    "Example\n",
    "Suppose the following inputs are given to the program:\n",
    "3,5\n",
    "Then, the output of the program should be:\n",
    "[[0, 0, 0, 0, 0], [0, 1, 2, 3, 4], [0, 2, 4, 6, 8]]"
   ]
  },
  {
   "cell_type": "code",
   "execution_count": 6,
   "id": "2de1c4b3",
   "metadata": {},
   "outputs": [
    {
     "name": "stdout",
     "output_type": "stream",
     "text": [
      "enter values for row and columsn:\t3,5\n",
      "\n",
      "[[0, 0, 0, 0, 0], [0, 0, 0, 0, 0], [0, 0, 0, 0, 0], [0, 0, 0, 0, 0], [0, 0, 0, 0, 0], [0, 1, 2, 3, 4], [0, 1, 2, 3, 4], [0, 1, 2, 3, 4], [0, 1, 2, 3, 4], [0, 1, 2, 3, 4], [0, 2, 4, 6, 8], [0, 2, 4, 6, 8], [0, 2, 4, 6, 8], [0, 2, 4, 6, 8], [0, 2, 4, 6, 8]]\n"
     ]
    }
   ],
   "source": [
    "User_input=input(\"enter values for row and columsn:\\t\")\n",
    "rows,cols=User_input.split(',')\n",
    "rows=int(rows)\n",
    "cols=int(cols)\n",
    "grid=[]\n",
    "for x in range(rows):\n",
    "    row=[]\n",
    "    for y in range(cols):\n",
    "        row.append(x * y)\n",
    "        grid.append(row)\n",
    "print()\n",
    "\n",
    "print(grid)        "
   ]
  },
  {
   "cell_type": "code",
   "execution_count": null,
   "id": "7fc6e426",
   "metadata": {},
   "outputs": [],
   "source": [
    "Question 3:\n",
    "Write a program that accepts a comma separated sequence of words as input and prints the\n",
    "words in a comma-separated sequence after sorting them alphabetically.\n",
    "Suppose the following input is supplied to the program:\n",
    "without,hello,bag,world\n",
    "Then, the output should be:\n",
    "bag,hello,without,world\n"
   ]
  },
  {
   "cell_type": "code",
   "execution_count": 8,
   "id": "7dbfc389",
   "metadata": {},
   "outputs": [
    {
     "name": "stdout",
     "output_type": "stream",
     "text": [
      "enter words:without,hello,bag,world,then\n",
      "bag,hello,then,without,world\n"
     ]
    }
   ],
   "source": [
    "sequence=input(\"enter words:\")\n",
    "sequence_list=sequence.split(',')\n",
    "sequence_list.sort()\n",
    "print((',').join(sequence_list))"
   ]
  },
  {
   "cell_type": "code",
   "execution_count": null,
   "id": "acdc1594",
   "metadata": {},
   "outputs": [],
   "source": [
    "Question 4:\n",
    "Write a program that accepts a sequence of whitespace separated words as input and prints\n",
    "the words after removing all duplicate words and sorting them alphanumerically.\n",
    "Suppose the following input is supplied to the program:\n",
    "hello world and practice makes perfect and hello world again\n",
    "Then, the output should be:\n",
    "again and hello makes perfect practice world\n"
   ]
  },
  {
   "cell_type": "code",
   "execution_count": 2,
   "id": "0ade2817",
   "metadata": {},
   "outputs": [
    {
     "name": "stdout",
     "output_type": "stream",
     "text": [
      "enter words:hello world practice makes perfect hello world\n",
      "['hello', 'makes', 'perfect', 'practice', 'world']\n"
     ]
    }
   ],
   "source": [
    "sequence=input(\"enter words:\")\n",
    "sequence_list=sequence.split(' ')\n",
    "word_list=[]\n",
    "for i in sequence_list:\n",
    "    if i not in word_list:\n",
    "        word_list.append(i)\n",
    "    else:\n",
    "        continue\n",
    "    word_list.sort()\n",
    "print(word_list)    \n"
   ]
  },
  {
   "cell_type": "code",
   "execution_count": null,
   "id": "2dcdaa72",
   "metadata": {},
   "outputs": [],
   "source": [
    "Question 5:\n",
    "Write a program that accepts a sentence and calculate the number of letters and digits.\n",
    "Suppose the following input is supplied to the program:\n",
    "hello world! 123\n",
    "Then, the output should be:\n",
    "LETTERS 10\n",
    "DIGITS 3"
   ]
  },
  {
   "cell_type": "code",
   "execution_count": 4,
   "id": "ef8c323b",
   "metadata": {},
   "outputs": [
    {
     "name": "stdout",
     "output_type": "stream",
     "text": [
      "type inhello world 123\n",
      "letters: 10\n",
      "digits: 5\n"
     ]
    }
   ],
   "source": [
    "sequence=input(\"type in\")\n",
    "sequence=list(sequence)\n",
    "l,d=0,0\n",
    "for i in sequence:\n",
    "    if i.isalpha():\n",
    "        l=l+1\n",
    "    else:\n",
    "        d=d+1\n",
    "print(\"letters:\",l)\n",
    "print(\"digits:\",d)"
   ]
  },
  {
   "cell_type": "code",
   "execution_count": null,
   "id": "4c86f755",
   "metadata": {},
   "outputs": [],
   "source": [
    "Question 6:\n",
    "A website requires the users to input username and password to register. Write a program to\n",
    "check the validity of password input by users.\n",
    "Following are the criteria for checking the password:\n",
    "1. At least 1 letter between [a-z]\n",
    "2. At least 1 number between [0-9]\n",
    "1. At least 1 letter between [A-Z]\n",
    "3. At least 1 character from [$#@]\n",
    "4. Minimum length of transaction password: 6"
   ]
  },
  {
   "cell_type": "code",
   "execution_count": 11,
   "id": "ee417356",
   "metadata": {},
   "outputs": [
    {
     "name": "stdout",
     "output_type": "stream",
     "text": [
      "type in:Sm74@jf\n",
      "Sm74@jf\n"
     ]
    }
   ],
   "source": [
    "import re\n",
    "user_pssword=input(\"type in:\")\n",
    "user_pssword=user_pssword.split(',')\n",
    "accepted_paswrd=[]\n",
    "for i in user_pssword:\n",
    "    if len(i)<6 and len(i)>12:\n",
    "        continue\n",
    "    elif not re.search('([a-z])+',i):\n",
    "        continue\n",
    "    elif not re.search('[0-9]+',i):\n",
    "        continue\n",
    "    elif not re.search('[A-Z]+',i):\n",
    "        continue\n",
    "    elif not re.search('[$#@]+',i):  \n",
    "        continue\n",
    "    else:\n",
    "        accepted_paswrd.append(i)\n",
    "print((\" \").join(accepted_paswrd))      \n",
    "        \n",
    "    \n",
    "    \n",
    "    "
   ]
  }
 ],
 "metadata": {
  "kernelspec": {
   "display_name": "Python 3 (ipykernel)",
   "language": "python",
   "name": "python3"
  },
  "language_info": {
   "codemirror_mode": {
    "name": "ipython",
    "version": 3
   },
   "file_extension": ".py",
   "mimetype": "text/x-python",
   "name": "python",
   "nbconvert_exporter": "python",
   "pygments_lexer": "ipython3",
   "version": "3.9.13"
  }
 },
 "nbformat": 4,
 "nbformat_minor": 5
}
