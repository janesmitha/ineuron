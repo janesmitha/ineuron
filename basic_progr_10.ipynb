{
 "cells": [
  {
   "cell_type": "markdown",
   "id": "4ed11c04",
   "metadata": {},
   "source": [
    "1. Write a Python program to find sum of elements in list?"
   ]
  },
  {
   "cell_type": "code",
   "execution_count": 5,
   "id": "f4592293",
   "metadata": {},
   "outputs": [
    {
     "name": "stdout",
     "output_type": "stream",
     "text": [
      "sum of elments in list: 29\n"
     ]
    }
   ],
   "source": [
    "def sum_list(list):\n",
    "    sum=0\n",
    "    for ele in range(len(list)):\n",
    "        sum=sum+list[ele]\n",
    "    return sum\n",
    "#initialising list\n",
    "list=[23,1,2,3]\n",
    "#print(list)\n",
    "print(\"sum of elments in list:\",sum_list(list))\n"
   ]
  },
  {
   "cell_type": "markdown",
   "id": "7ebe6ca4",
   "metadata": {},
   "source": [
    "2. Write a Python program to Multiply all numbers in the list?"
   ]
  },
  {
   "cell_type": "code",
   "execution_count": 12,
   "id": "55dd9b92",
   "metadata": {},
   "outputs": [
    {
     "name": "stdout",
     "output_type": "stream",
     "text": [
      "multiplication in list: 138\n"
     ]
    }
   ],
   "source": [
    "def multiply_list(mullist):\n",
    "    mul=1\n",
    "    for ele in range(len(list)):\n",
    "        mul=mul*list[ele]\n",
    "    return mul\n",
    "mullist=[1,1,2,2,3]\n",
    "print(\"multiplication in list:\",multiply_list(mullist))\n",
    "    "
   ]
  },
  {
   "cell_type": "markdown",
   "id": "b5dfe1d3",
   "metadata": {},
   "source": [
    "3. Write a Python program to find smallest number in a list?"
   ]
  },
  {
   "cell_type": "code",
   "execution_count": 15,
   "id": "e457fbe9",
   "metadata": {},
   "outputs": [
    {
     "name": "stdout",
     "output_type": "stream",
     "text": [
      "smallest number in [22, 33, 4, 32] is 4\n"
     ]
    }
   ],
   "source": [
    "lis=[22,33,4,32]\n",
    "small_num=min(lis)\n",
    "print(f\"smallest number in {lis} is\",small_num)"
   ]
  },
  {
   "cell_type": "markdown",
   "id": "e9d08ab4",
   "metadata": {},
   "source": [
    "4. Write a Python program to find largest number in a list?"
   ]
  },
  {
   "cell_type": "code",
   "execution_count": 16,
   "id": "4c0e7d3d",
   "metadata": {},
   "outputs": [
    {
     "name": "stdout",
     "output_type": "stream",
     "text": [
      "largestnumber in [2, 3, 12, 34]is 34\n"
     ]
    }
   ],
   "source": [
    "list=[2,3,12,34]\n",
    "largest_num=max(list)\n",
    "print(f\"largestnumber in {list}is\",largest_num)"
   ]
  },
  {
   "cell_type": "markdown",
   "id": "033abd60",
   "metadata": {},
   "source": [
    "5. Write a Python program to find second largest number in a list"
   ]
  },
  {
   "cell_type": "code",
   "execution_count": 33,
   "id": "6be12d6f",
   "metadata": {},
   "outputs": [
    {
     "name": "stdout",
     "output_type": "stream",
     "text": [
      "enter size in list6\n",
      "enter the elements23\n",
      "enter the elements12\n",
      "enter the elements34\n",
      "enter the elements22\n",
      "enter the elements55\n",
      "enter the elements13\n",
      "enter second largest element i list: 34\n"
     ]
    }
   ],
   "source": [
    "def second_max(list):\n",
    "    list.sort()\n",
    "    return list[-2]\n",
    "n=int(input(\"enter size in list\"))\n",
    "li=[]\n",
    "for i in range(0,n):\n",
    "    ele=int(input(\"enter the elements\"))\n",
    "    li.append(ele)\n",
    "print(\"enter second largest element i list:\",second_max(li))    "
   ]
  },
  {
   "cell_type": "code",
   "execution_count": 24,
   "id": "5f55cd6d",
   "metadata": {},
   "outputs": [
    {
     "name": "stdout",
     "output_type": "stream",
     "text": [
      "Enter size of list 5\n",
      "Enter element of list 1\n",
      "Enter element of list 2\n",
      "Enter element of list 3\n",
      "Enter element of list 4\n",
      "Enter element of list 5\n",
      "second largest in  [1, 2, 3, 4, 5] is\n",
      "4\n"
     ]
    }
   ],
   "source": [
    "\n",
    "#another solution\n",
    "#second largest number in list\n",
    "\n",
    "#function\n",
    "def second_largest(list):\n",
    "    large= max(list)\n",
    "    list.remove(large)\n",
    "    large= max(list)\n",
    "    return large\n",
    "\n",
    "\n",
    "#input of list\n",
    "li=[]\n",
    "n=int(input(\"Enter size of list \"))\n",
    "for i in range(0,n):\n",
    "    e=int(input(\"Enter element of list \"))\n",
    "    li.append(e)\n",
    "\n",
    "#smallest\n",
    "print(\"second largest in \",li,\"is\")\n",
    "print(second_largest(li))            "
   ]
  },
  {
   "cell_type": "markdown",
   "id": "cd176600",
   "metadata": {},
   "source": [
    "6. Write a Python program to find N largest elements from a list?"
   ]
  },
  {
   "cell_type": "code",
   "execution_count": 1,
   "id": "a8b4defe",
   "metadata": {},
   "outputs": [
    {
     "name": "stdout",
     "output_type": "stream",
     "text": [
      "[67, 55, 34]\n"
     ]
    }
   ],
   "source": [
    "def max_nelement(list,n):\n",
    "    final_list=[]\n",
    "    for i in range(0,n):\n",
    "        max1=0\n",
    "        for j in range(len(list)):\n",
    "            if list[j] > max1:\n",
    "                max1=list[j]\n",
    "        list.remove(max1)\n",
    "        final_list.append(max1)\n",
    "    print(final_list)  \n",
    "list=[2,34,12,55,67]\n",
    "n=3\n",
    "max_nelement(list,n)\n",
    "\n",
    "            "
   ]
  },
  {
   "cell_type": "markdown",
   "id": "fca23ba6",
   "metadata": {},
   "source": [
    "7. Write a Python program to print even numbers in a list?"
   ]
  },
  {
   "cell_type": "code",
   "execution_count": 5,
   "id": "42759e38",
   "metadata": {},
   "outputs": [
    {
     "name": "stdout",
     "output_type": "stream",
     "text": [
      "enter size of the list3\n",
      "enter the elements in list22\n",
      "enter the elements in list33\n",
      "enter the elements in list11\n",
      "[22, 33, 11]\n",
      "[22]\n"
     ]
    }
   ],
   "source": [
    "list=[]\n",
    "n=int(input(\"enter size of the list\"))\n",
    "for i in range(0,n):\n",
    "    ele=int(input(\"enter the elements in list\"))\n",
    "    list.append(ele)\n",
    "print(list) \n",
    "even_nos=[num for num in list if num % 2 == 0]\n",
    "print(even_nos)\n",
    "    \n"
   ]
  },
  {
   "cell_type": "markdown",
   "id": "615fa6a1",
   "metadata": {},
   "source": [
    "8. Write a Python program to print odd numbers in a List?"
   ]
  },
  {
   "cell_type": "code",
   "execution_count": 6,
   "id": "504ea79a",
   "metadata": {},
   "outputs": [
    {
     "name": "stdout",
     "output_type": "stream",
     "text": [
      "enter size of the list3\n",
      "enter the elements in list6\n",
      "enter the elements in list7\n",
      "enter the elements in list9\n",
      "[6, 7, 9]\n",
      "[7, 9]\n"
     ]
    }
   ],
   "source": [
    "list=[]\n",
    "n=int(input(\"enter size of the list\"))\n",
    "for i in range(0,n):\n",
    "    ele=int(input(\"enter the elements in list\"))\n",
    "    list.append(ele)\n",
    "print(list) \n",
    "odd_nos=[num for num in list if num % 2 != 0]\n",
    "print(odd_nos)\n",
    "    "
   ]
  },
  {
   "cell_type": "markdown",
   "id": "407fa1d9",
   "metadata": {},
   "source": [
    "9. Write a Python program to Remove empty List from List?"
   ]
  },
  {
   "cell_type": "code",
   "execution_count": 7,
   "id": "52f4da11",
   "metadata": {},
   "outputs": [
    {
     "name": "stdout",
     "output_type": "stream",
     "text": [
      "['text', 'text2', 'moreText']\n"
     ]
    }
   ],
   "source": [
    "list1 = [[], [], [], [], [], 'text', 'text2', [], 'moreText']\n",
    "list2 = ['text', 'text2', 'moreText']\n",
    "list2 = [x for x in list1 if x != []]\n",
    "print(list2)"
   ]
  },
  {
   "cell_type": "markdown",
   "id": "587a780f",
   "metadata": {},
   "source": [
    "10. Write a Python program to Cloning or Copying a list?"
   ]
  },
  {
   "cell_type": "code",
   "execution_count": 11,
   "id": "c95a7ddb",
   "metadata": {},
   "outputs": [
    {
     "name": "stdout",
     "output_type": "stream",
     "text": [
      "[10, 22, 44, 23, 4]\n",
      "[10, 22, 44, 23, 4]\n"
     ]
    }
   ],
   "source": [
    "original_list = [10, 22, 44, 23, 4]\n",
    "new_list = original_list\n",
    "print(original_list)\n",
    "print(new_list)\n"
   ]
  },
  {
   "cell_type": "markdown",
   "id": "858573d5",
   "metadata": {},
   "source": [
    "11. Write a Python program to Count occurrences of an element in a list?"
   ]
  },
  {
   "cell_type": "code",
   "execution_count": 15,
   "id": "cb3f9304",
   "metadata": {},
   "outputs": [
    {
     "name": "stdout",
     "output_type": "stream",
     "text": [
      "enter size of the list4\n",
      "enter the elements in list2\n",
      "enter the elements in list2\n",
      "enter the elements in list3\n",
      "enter the elements in list4\n",
      "[2, 2, 3, 4]\n",
      "Enter element to be checked list: 2\n",
      "2  has occurred  2 times\n"
     ]
    }
   ],
   "source": [
    "def count_occurence(list,n):\n",
    "    count=0\n",
    "    for i in list:\n",
    "        if i==n:\n",
    "            count=count+1\n",
    "    return count \n",
    "list=[]\n",
    "n=int(input(\"enter size of the list\"))\n",
    "for i in range(0,n):\n",
    "    ele=int(input(\"enter the elements in list\"))\n",
    "    list.append(ele)\n",
    "print(list)\n",
    "x=int(input(\"Enter element to be checked list: \"))\n",
    "\n",
    "#function call\n",
    "print(x,\" has occurred \",count_occurence(list, x),\"times\")\n"
   ]
  }
 ],
 "metadata": {
  "kernelspec": {
   "display_name": "Python 3 (ipykernel)",
   "language": "python",
   "name": "python3"
  },
  "language_info": {
   "codemirror_mode": {
    "name": "ipython",
    "version": 3
   },
   "file_extension": ".py",
   "mimetype": "text/x-python",
   "name": "python",
   "nbconvert_exporter": "python",
   "pygments_lexer": "ipython3",
   "version": "3.9.13"
  }
 },
 "nbformat": 4,
 "nbformat_minor": 5
}
