{
 "cells": [
  {
   "cell_type": "code",
   "execution_count": null,
   "id": "06d2f8fa",
   "metadata": {},
   "outputs": [],
   "source": [
    "1. To what does a relative path refer?\n"
   ]
  },
  {
   "cell_type": "code",
   "execution_count": null,
   "id": "eb3a1ecd",
   "metadata": {},
   "outputs": [],
   "source": [
    "A relative path refers to a location that is relative to a current directory. Relative paths make use of two special symbols\n",
    ", a dot (.) and a double-dot (..), which translate into the current directory and the parent directory. \n",
    "Double dots are used for moving up in the hierarchy.\n"
   ]
  },
  {
   "cell_type": "code",
   "execution_count": null,
   "id": "5ef3be4a",
   "metadata": {},
   "outputs": [],
   "source": [
    "2. What does an absolute path start with your operating system?\n"
   ]
  },
  {
   "cell_type": "code",
   "execution_count": null,
   "id": "510531b4",
   "metadata": {},
   "outputs": [],
   "source": [
    "An absolute path is defined as the specifying the location of a file or directory from the root directory(/).\n",
    "In other words we can say absolute path is a complete path from start of actual filesystem from / directory.\n"
   ]
  },
  {
   "cell_type": "code",
   "execution_count": null,
   "id": "3bdd2f71",
   "metadata": {},
   "outputs": [],
   "source": [
    "3. What do the functions os.getcwd() and os.chdir() do?\n"
   ]
  },
  {
   "cell_type": "code",
   "execution_count": null,
   "id": "64a8e34d",
   "metadata": {},
   "outputs": [],
   "source": [
    ">getcwd() method in python used to get the current working directory\n",
    ">chdir() method in Python used to change the current working directory to specified path.\n",
    "It takes only a single argument as new directory path."
   ]
  },
  {
   "cell_type": "code",
   "execution_count": null,
   "id": "4724aac8",
   "metadata": {},
   "outputs": [],
   "source": [
    "4. What are the . and .. folders?\n"
   ]
  },
  {
   "cell_type": "code",
   "execution_count": null,
   "id": "63b43198",
   "metadata": {},
   "outputs": [],
   "source": [
    "ans:'.' is used to translate to the current directory.'..' used to translate to the parent directory"
   ]
  },
  {
   "cell_type": "code",
   "execution_count": null,
   "id": "8e5abf54",
   "metadata": {},
   "outputs": [],
   "source": [
    "5. In C:\\bacon\\eggs\\spam.txt, which part is the dir name, and which part is the base name?\n"
   ]
  },
  {
   "cell_type": "code",
   "execution_count": null,
   "id": "119bce9f",
   "metadata": {},
   "outputs": [],
   "source": [
    "ans:c:\\bacon\\eggs is the directory name where as spam.txt is the  base name"
   ]
  },
  {
   "cell_type": "code",
   "execution_count": null,
   "id": "1ed75bfd",
   "metadata": {},
   "outputs": [],
   "source": [
    "6. What are the three “mode” arguments that can be passed to the open() function?\n"
   ]
  },
  {
   "cell_type": "code",
   "execution_count": null,
   "id": "2b73b908",
   "metadata": {},
   "outputs": [],
   "source": [
    "r: Opens the file in read-only mode. Starts reading from the beginning of the file and is the default mode for the open() function.\n",
    "rb: Opens the file as read-only in binary format and starts reading from the beginning of the file. While binary format can be used for different purposes, it is usually used when dealing with things like images, videos, etc.\n",
    "r+: Opens a file for reading and writing, placing the pointer at the beginning of the file.\n",
    "w: Opens in write-only mode. The pointer is placed at the beginning of the file and this will overwrite any existing file with the same name. It will create a new file if one with the same name doesn't exist.\n",
    "wb: Opens a write-only file in binary mode.\n",
    "w+: Opens a file for writing and reading.\n",
    "wb+: Opens a file for writing and reading in binary mode.\n",
    "a: Opens a file for appending new information to it. The pointer is placed at the end of the file. A new file is created if one with the same name doesn't exist.\n",
    "ab: Opens a file for appending in binary mode.\n",
    "a+: Opens a file for both appending and reading.\n",
    "ab+: Opens a file for both appending and reading in binary mode."
   ]
  },
  {
   "cell_type": "code",
   "execution_count": null,
   "id": "32e5298a",
   "metadata": {},
   "outputs": [],
   "source": [
    "7. What happens if an existing file is opened in write mode?\n"
   ]
  },
  {
   "cell_type": "code",
   "execution_count": null,
   "id": "cb227a0e",
   "metadata": {},
   "outputs": [],
   "source": [
    "It  will overwrittens the existing  file."
   ]
  },
  {
   "cell_type": "code",
   "execution_count": null,
   "id": "dac84fe2",
   "metadata": {},
   "outputs": [],
   "source": [
    "8. How do you tell the difference between read() and readlines()?\n"
   ]
  },
  {
   "cell_type": "code",
   "execution_count": null,
   "id": "1c352d4c",
   "metadata": {},
   "outputs": [],
   "source": [
    " The read() method returns the specified number of bytes from the file.\n",
    "The readlines() method returns a list containing each line in the file as a list item."
   ]
  },
  {
   "cell_type": "code",
   "execution_count": null,
   "id": "acb36162",
   "metadata": {},
   "outputs": [],
   "source": [
    "9. What data structure does a shelf value resemble?"
   ]
  },
  {
   "cell_type": "code",
   "execution_count": null,
   "id": "a93f2ed4",
   "metadata": {},
   "outputs": [],
   "source": [
    " A shelf value resembles a dictionary value; it has keys and values, along with keys() and values() methods\n",
    "that work similarly to the dictionary methods of the same names."
   ]
  }
 ],
 "metadata": {
  "kernelspec": {
   "display_name": "Python 3 (ipykernel)",
   "language": "python",
   "name": "python3"
  },
  "language_info": {
   "codemirror_mode": {
    "name": "ipython",
    "version": 3
   },
   "file_extension": ".py",
   "mimetype": "text/x-python",
   "name": "python",
   "nbconvert_exporter": "python",
   "pygments_lexer": "ipython3",
   "version": "3.9.13"
  }
 },
 "nbformat": 4,
 "nbformat_minor": 5
}
