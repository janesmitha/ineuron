{
 "cells": [
  {
   "cell_type": "markdown",
   "id": "dd9dcf7c",
   "metadata": {},
   "source": [
    "1.What are escape characters, and how do you use them?"
   ]
  },
  {
   "cell_type": "code",
   "execution_count": null,
   "id": "7daa590c",
   "metadata": {},
   "outputs": [],
   "source": [
    "Escape characters represent characters in string values that would otherwise be difficult or impossible to type into code"
   ]
  },
  {
   "cell_type": "markdown",
   "id": "580362ce",
   "metadata": {},
   "source": [
    "2.What do the escape characters n and t stand for?"
   ]
  },
  {
   "cell_type": "code",
   "execution_count": null,
   "id": "1bdaf58c",
   "metadata": {},
   "outputs": [],
   "source": [
    "\\n stands for new line\n",
    "\\t stands for new tab"
   ]
  },
  {
   "cell_type": "markdown",
   "id": "b0019ad4",
   "metadata": {},
   "source": [
    "3.What is the way to include backslash characters in a string?"
   ]
  },
  {
   "cell_type": "code",
   "execution_count": null,
   "id": "692d2992",
   "metadata": {},
   "outputs": [],
   "source": [
    "The \\\\ escape character is used for backslash characters in a string"
   ]
  },
  {
   "cell_type": "markdown",
   "id": "8420afb4",
   "metadata": {},
   "source": [
    "4.The string &quot;Howl&#39;s Moving Castle&quot; is a correct value. Why isn&#39;t the single quote character in the\n",
    "word Howl&#39;s not escaped a problem?\n"
   ]
  },
  {
   "cell_type": "code",
   "execution_count": null,
   "id": "7497c8c1",
   "metadata": {},
   "outputs": [],
   "source": [
    "The single quote in ' Howl's is fine because you' have used double quotes to mark the beginning and end of the string."
   ]
  },
  {
   "cell_type": "markdown",
   "id": "8c45592d",
   "metadata": {},
   "source": [
    "5. How do you write a string of newlines if you don&#39;t want to use the n character?"
   ]
  },
  {
   "cell_type": "code",
   "execution_count": null,
   "id": "a040455b",
   "metadata": {},
   "outputs": [],
   "source": [
    "multi strings allow u to write new lines in a string with out \\n escape character"
   ]
  },
  {
   "cell_type": "markdown",
   "id": "f02fb34c",
   "metadata": {},
   "source": [
    "6. What are the values of the given expressions?\n",
    "&#39;Hello, world!&#39;[1]\n",
    "&#39;Hello, world!&#39;[0:5]\n",
    "&#39;Hello, world!&#39;[:5]\n",
    "&#39;Hello, world!&#39;[3:]"
   ]
  },
  {
   "cell_type": "code",
   "execution_count": 4,
   "id": "85932aa2",
   "metadata": {},
   "outputs": [
    {
     "data": {
      "text/plain": [
       "'e'"
      ]
     },
     "execution_count": 4,
     "metadata": {},
     "output_type": "execute_result"
    }
   ],
   "source": [
    "'Hello world'[1]\n",
    "\n"
   ]
  },
  {
   "cell_type": "code",
   "execution_count": 5,
   "id": "a883fdf6",
   "metadata": {},
   "outputs": [
    {
     "data": {
      "text/plain": [
       "'Hello'"
      ]
     },
     "execution_count": 5,
     "metadata": {},
     "output_type": "execute_result"
    }
   ],
   "source": [
    "'Hello world'[0:5]\n"
   ]
  },
  {
   "cell_type": "code",
   "execution_count": 6,
   "id": "3d11b15c",
   "metadata": {},
   "outputs": [
    {
     "data": {
      "text/plain": [
       "'Hello'"
      ]
     },
     "execution_count": 6,
     "metadata": {},
     "output_type": "execute_result"
    }
   ],
   "source": [
    "'Hello world'[:5]\n"
   ]
  },
  {
   "cell_type": "code",
   "execution_count": 7,
   "id": "1aff9513",
   "metadata": {},
   "outputs": [
    {
     "data": {
      "text/plain": [
       "'lo world'"
      ]
     },
     "execution_count": 7,
     "metadata": {},
     "output_type": "execute_result"
    }
   ],
   "source": [
    "'Hello world'[3:]\n"
   ]
  },
  {
   "cell_type": "markdown",
   "id": "11df7805",
   "metadata": {},
   "source": [
    "7. What are the values of the following expressions?\n",
    "&#39;Hello&#39;.upper()\n",
    "&#39;Hello&#39;.upper().isupper()\n",
    "&#39;Hello&#39;.upper().lower()"
   ]
  },
  {
   "cell_type": "code",
   "execution_count": 8,
   "id": "9f5df762",
   "metadata": {},
   "outputs": [
    {
     "data": {
      "text/plain": [
       "'HELLO'"
      ]
     },
     "execution_count": 8,
     "metadata": {},
     "output_type": "execute_result"
    }
   ],
   "source": [
    "'Hello'.upper()"
   ]
  },
  {
   "cell_type": "code",
   "execution_count": 14,
   "id": "b14000ea",
   "metadata": {},
   "outputs": [
    {
     "data": {
      "text/plain": [
       "True"
      ]
     },
     "execution_count": 14,
     "metadata": {},
     "output_type": "execute_result"
    }
   ],
   "source": [
    "'Hello'.upper().isupper()"
   ]
  },
  {
   "cell_type": "code",
   "execution_count": 15,
   "id": "06ca5cdc",
   "metadata": {},
   "outputs": [
    {
     "data": {
      "text/plain": [
       "'hello'"
      ]
     },
     "execution_count": 15,
     "metadata": {},
     "output_type": "execute_result"
    }
   ],
   "source": [
    "'Hello'.upper().lower()"
   ]
  },
  {
   "cell_type": "markdown",
   "id": "5efee6fb",
   "metadata": {},
   "source": [
    "8. What are the values of the following expressions?\n",
    "&#39;Remember, remember, the fifth of July.&#39;.split()\n",
    "&#39;-&#39;.join(&#39;There can only one.&#39;.split())"
   ]
  },
  {
   "cell_type": "code",
   "execution_count": 19,
   "id": "7a43b2da",
   "metadata": {},
   "outputs": [
    {
     "data": {
      "text/plain": [
       "['Remember,remember,the', 'fifth', 'of', 'July.']"
      ]
     },
     "execution_count": 19,
     "metadata": {},
     "output_type": "execute_result"
    }
   ],
   "source": [
    "'Remember,remember,the fifth of July.'.split()"
   ]
  },
  {
   "cell_type": "code",
   "execution_count": 20,
   "id": "6d44efe7",
   "metadata": {},
   "outputs": [
    {
     "data": {
      "text/plain": [
       "'There_can_only_one'"
      ]
     },
     "execution_count": 20,
     "metadata": {},
     "output_type": "execute_result"
    }
   ],
   "source": [
    "'_'.join('There can only one'.split())"
   ]
  },
  {
   "cell_type": "markdown",
   "id": "22991279",
   "metadata": {},
   "source": [
    "9. What are the methods for right-justifying, left-justifying, and centering a string?"
   ]
  },
  {
   "cell_type": "code",
   "execution_count": null,
   "id": "486b133e",
   "metadata": {},
   "outputs": [],
   "source": [
    "The rjust(), ljust(), and center() string methods, respectively"
   ]
  },
  {
   "cell_type": "markdown",
   "id": "855f7b24",
   "metadata": {},
   "source": [
    "10. What is the best way to remove whitespace characters from the start or end?"
   ]
  },
  {
   "cell_type": "code",
   "execution_count": null,
   "id": "02649e1e",
   "metadata": {},
   "outputs": [],
   "source": [
    "lstrip(),rstrip() methods are used to remove white space characters from start or end"
   ]
  }
 ],
 "metadata": {
  "kernelspec": {
   "display_name": "Python 3 (ipykernel)",
   "language": "python",
   "name": "python3"
  },
  "language_info": {
   "codemirror_mode": {
    "name": "ipython",
    "version": 3
   },
   "file_extension": ".py",
   "mimetype": "text/x-python",
   "name": "python",
   "nbconvert_exporter": "python",
   "pygments_lexer": "ipython3",
   "version": "3.9.13"
  }
 },
 "nbformat": 4,
 "nbformat_minor": 5
}
