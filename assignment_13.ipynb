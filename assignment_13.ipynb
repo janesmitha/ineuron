{
 "cells": [
  {
   "cell_type": "markdown",
   "id": "3f6d876b",
   "metadata": {},
   "source": [
    "1. What advantages do Excel spreadsheets have over CSV spreadsheets?"
   ]
  },
  {
   "cell_type": "code",
   "execution_count": null,
   "id": "fc1bdc7c",
   "metadata": {},
   "outputs": [],
   "source": [
    "The Advantages of Excel over CSV are:\n",
    "\n",
    ">Excel (XLS and XLSX) file formats are better for storing and analysing complex data.\n",
    ">An Excel not only stores data but can also do operations on the data using macros, formulas etc\n",
    ">CSV files are plain-text files, Does not contain formatting, formulas, macros, etc. It is also known as flat files"
   ]
  },
  {
   "cell_type": "markdown",
   "id": "d3666cc8",
   "metadata": {},
   "source": [
    "2.What do you pass to csv.reader() and csv.writer() to create reader and writer objects?"
   ]
  },
  {
   "cell_type": "code",
   "execution_count": 7,
   "id": "7e09baf7",
   "metadata": {},
   "outputs": [
    {
     "name": "stdout",
     "output_type": "stream",
     "text": [
      "['dfaskllk\\tadfsjj\\t']\n",
      "['afjdnv\\t\\tafjj']\n",
      "['\\t\\t']\n",
      "['\\tjajgkkl\\t']\n"
     ]
    }
   ],
   "source": [
    "import csv\n",
    "with open('C:/Users/PAVAN D/Desktop/SMICY/text.csv','r') as file:\n",
    "    csv_file=csv.reader(file,delimiter=',')\n",
    "    for ele in csv_file:\n",
    "        print(ele)\n",
    "    "
   ]
  },
  {
   "cell_type": "markdown",
   "id": "73526710",
   "metadata": {},
   "source": [
    "3. What modes do File objects for reader and writer objects need to be opened in?"
   ]
  },
  {
   "cell_type": "code",
   "execution_count": null,
   "id": "b3da374d",
   "metadata": {},
   "outputs": [],
   "source": [
    "ans:For csv.reader(iterable_file_object), the file objects needed to be opened in read mode mode='r' \n",
    "    Whereas for csv.writer(iterable_file_object) \n",
    "    the file objects needed to be opened in write mode mode='w'"
   ]
  },
  {
   "cell_type": "markdown",
   "id": "f08f1b96",
   "metadata": {},
   "source": [
    "4. What method takes a list argument and writes it to a CSV file?"
   ]
  },
  {
   "cell_type": "code",
   "execution_count": null,
   "id": "c0fdea43",
   "metadata": {},
   "outputs": [],
   "source": [
    "ans:csv.writer class provides two methods.one method is writeRow() and writerows() first method\n",
    "    writes one method where as writerows() method writes many rows ata time\n",
    "    "
   ]
  },
  {
   "cell_type": "code",
   "execution_count": 8,
   "id": "6eb32e18",
   "metadata": {},
   "outputs": [],
   "source": [
    "import csv      \n",
    "fields = ['Name', 'Branch', 'Year', 'CGPA'] #column names \n",
    "rows = [ \n",
    "            ['Neha', 'COE', '2', '9.0'],  # data rows of csv file \n",
    "            ['Sachin', 'COE', '2', '9.1'], \n",
    "            ['Radha', 'IT', '2', '9.3']\n",
    "       ] \n",
    "with open(\"university_records.csv\", 'w') as csvfile: \n",
    "    csvwriter = csv.writer(csvfile) # creating a csv writer object \n",
    "    csvwriter.writerow(fields) # writing the fields \n",
    "    csvwriter.writerows(rows) # writing the data rows "
   ]
  },
  {
   "cell_type": "markdown",
   "id": "14afbbe7",
   "metadata": {},
   "source": [
    "5. What do the keyword arguments delimiter and line terminator do?"
   ]
  },
  {
   "cell_type": "code",
   "execution_count": null,
   "id": "4edc8145",
   "metadata": {},
   "outputs": [],
   "source": [
    "ans:',' is Delimiter. We can use any Character as per our needs if required. \n",
    "    Similarly Line Terminator comes at end of line by default it is newline and can be changed accourding to Requirement.\n",
    "\n"
   ]
  },
  {
   "cell_type": "markdown",
   "id": "3fb6cd5b",
   "metadata": {},
   "source": [
    "6. What function takes a string of JSON data and returns a Python data structure?"
   ]
  },
  {
   "cell_type": "code",
   "execution_count": null,
   "id": "238ebcce",
   "metadata": {},
   "outputs": [],
   "source": [
    "ans:loads() method takes a string of JSON data and returns a Python data structure"
   ]
  },
  {
   "cell_type": "code",
   "execution_count": 10,
   "id": "c5faa32e",
   "metadata": {},
   "outputs": [
    {
     "name": "stdout",
     "output_type": "stream",
     "text": [
      "{\n",
      "    \"Name\": \"jane smitha\",\n",
      "    \"Qualification\": \"Master of computerapplications\",\n",
      "    \"Stream\": \"Computer Applications\"\n",
      "}\n",
      "Type of my_details_json is <class 'str'>\n",
      "{'Name': 'jane smitha', 'Qualification': 'Master of computerapplications', 'Stream': 'Computer Applications'}\n",
      "Type of my_details is <class 'dict'>\n"
     ]
    }
   ],
   "source": [
    "# Example of json.loads() method\n",
    "import json\n",
    "my_details_json ='''{\n",
    "    \"Name\": \"jane smitha\",\n",
    "    \"Qualification\": \"Master of computerapplications\",\n",
    "    \"Stream\": \"Computer Applications\"\n",
    "}'''\n",
    "print(my_details_json)\n",
    "print(f'Type of my_details_json is {type(my_details_json)}')\n",
    "my_details = json.loads(my_details_json)\n",
    "print(my_details)\n",
    "print(f'Type of my_details is {type(my_details)}')"
   ]
  },
  {
   "cell_type": "markdown",
   "id": "17ecfd3a",
   "metadata": {},
   "source": [
    "7. What function takes a Python data structure and returns a string of JSON data?"
   ]
  },
  {
   "cell_type": "code",
   "execution_count": null,
   "id": "81ddf43a",
   "metadata": {},
   "outputs": [],
   "source": [
    "ans:dumps() method takes a python data structure and returns a string of JSON data"
   ]
  },
  {
   "cell_type": "code",
   "execution_count": 11,
   "id": "a5ad207b",
   "metadata": {},
   "outputs": [
    {
     "name": "stdout",
     "output_type": "stream",
     "text": [
      "[\n",
      "  {\n",
      "    \"ID\": 10,\n",
      "    \"Name\": \"Pankaj\",\n",
      "    \"Role\": \"CEO\"\n",
      "  },\n",
      "  {\n",
      "    \"ID\": 20,\n",
      "    \"Name\": \"David Lee\",\n",
      "    \"Role\": \"Editor\"\n",
      "  }\n",
      "]\n"
     ]
    }
   ],
   "source": [
    "import json\n",
    "\n",
    "json_data = '[{\"ID\":10,\"Name\":\"Pankaj\",\"Role\":\"CEO\"},' \\\n",
    "            '{\"ID\":20,\"Name\":\"David Lee\",\"Role\":\"Editor\"}]'\n",
    "\n",
    "json_object = json.loads(json_data)\n",
    "\n",
    "json_formatted_str = json.dumps(json_object, indent=2)\n",
    "\n",
    "print(json_formatted_str)"
   ]
  }
 ],
 "metadata": {
  "kernelspec": {
   "display_name": "Python 3 (ipykernel)",
   "language": "python",
   "name": "python3"
  },
  "language_info": {
   "codemirror_mode": {
    "name": "ipython",
    "version": 3
   },
   "file_extension": ".py",
   "mimetype": "text/x-python",
   "name": "python",
   "nbconvert_exporter": "python",
   "pygments_lexer": "ipython3",
   "version": "3.9.13"
  }
 },
 "nbformat": 4,
 "nbformat_minor": 5
}
