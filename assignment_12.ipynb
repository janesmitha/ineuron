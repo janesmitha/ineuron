{
 "cells": [
  {
   "cell_type": "markdown",
   "id": "6dc4c7f1",
   "metadata": {},
   "source": [
    "1. In what modes should the PdfFileReader() and PdfFileWriter() File objects will be opened?"
   ]
  },
  {
   "cell_type": "code",
   "execution_count": null,
   "id": "804fc03d",
   "metadata": {},
   "outputs": [],
   "source": [
    "ans:pdfFileReader() file object should be opened in rb->readbinary mode\n",
    "    pdfFileWriter() file object should be opened in wb->writebinarymode"
   ]
  },
  {
   "cell_type": "markdown",
   "id": "3a06db39",
   "metadata": {},
   "source": [
    "2. From a PdfFileReader object, how do you get a Page object for page 5?"
   ]
  },
  {
   "cell_type": "code",
   "execution_count": null,
   "id": "7a231c99",
   "metadata": {},
   "outputs": [],
   "source": [
    "ans:PdfFileReader class provides a method called getPage(page_no) to get a pageobject.calling getPage(4)will return\n",
    "a getPage(4) will return a pageno 5 since pageobject calls the pagenumber from pagezero(page_0)"
   ]
  },
  {
   "cell_type": "code",
   "execution_count": null,
   "id": "ed78c558",
   "metadata": {},
   "outputs": [],
   "source": [
    "#example code\n",
    "from PyPDF2 import PdfFileReader\n",
    "pdf_reader = PdfFileReader(file_path)\n",
    "for page in pdf_reader.getNumPages():\n",
    "    pdf_reader.getPage(page)"
   ]
  },
  {
   "cell_type": "markdown",
   "id": "e7825e18",
   "metadata": {},
   "source": [
    "3. What PdfFileReader variable stores the number of pages in the PDF document?"
   ]
  },
  {
   "cell_type": "code",
   "execution_count": null,
   "id": "adb28fae",
   "metadata": {},
   "outputs": [],
   "source": [
    "getNumPages() method of PdfFileReader class stores no of pages in a PDf document."
   ]
  },
  {
   "cell_type": "code",
   "execution_count": null,
   "id": "c84a6c19",
   "metadata": {},
   "outputs": [],
   "source": [
    "#Example Code:\n",
    "from PyPDF2 import PdfFileReader\n",
    "pdf_reader = PdfFileReader(file_path)\n",
    "print(pdf_reader.getNumPages()) # Prints the no of pages in a input document"
   ]
  },
  {
   "cell_type": "markdown",
   "id": "80e25306",
   "metadata": {},
   "source": [
    "4. If a PdfFileReader object’s PDF is encrypted with the password swordfish, what must you do\n",
    "before you can obtain Page objects from it?"
   ]
  },
  {
   "cell_type": "code",
   "execution_count": null,
   "id": "0a496050",
   "metadata": {},
   "outputs": [],
   "source": [
    "ans:If a PdfFileReader object’s PDF is encrypted with the password swordfish and  u r not aware of it.\n",
    "    First read the pdf  from pdfFileReaderclass.This class provides a attribute called isEncrypted to check whether the\n",
    "    pdf is encrypted and viceversa.\n",
    "    If PDF is encrypted use the decrypt() method provided by PdfFileReader class first then try to read the contents/pages\n",
    "    of the pdf else PYPDF2 will raise the following error PyPDF2.utils.PdfReadError: file has not been decrypted\n",
    "    "
   ]
  },
  {
   "cell_type": "code",
   "execution_count": null,
   "id": "22e76faa",
   "metadata": {},
   "outputs": [],
   "source": [
    "#Example Code:\n",
    "from PyPDF2 import PdfFileReader\n",
    "pdf_reader = PdfFileReader(file_path)\n",
    "if pdf_reader.isEncrypted: # to check whether the pdf is encrypted or not\n",
    "    pdf_reader.decrypt(\"swordfish\")\n",
    "for page in pdf_reader.pages:\n",
    "    print(page.extractText()) # to print the text data of a page from pdf"
   ]
  },
  {
   "cell_type": "markdown",
   "id": "07183d63",
   "metadata": {},
   "source": [
    "5. What methods do you use to rotate a page?"
   ]
  },
  {
   "cell_type": "code",
   "execution_count": null,
   "id": "b2d04c0d",
   "metadata": {},
   "outputs": [],
   "source": [
    "ans: PyPDF2 Package provides 2 methods to rotate a page:\n",
    "\n",
    "rotateClockWise() -> For Clockwise rotation\n",
    "rotateCounterClockWise() -> For Counter Clockwise rotation\n",
    "The PyPDF2 package only allows you to rotate a page in increments of 90 degrees.\n",
    "You will receive an AssertionError otherwise."
   ]
  },
  {
   "cell_type": "markdown",
   "id": "593782d7",
   "metadata": {},
   "source": [
    "6. What is the difference between a Run object and a Paragraph object?"
   ]
  },
  {
   "cell_type": "code",
   "execution_count": null,
   "id": "7f655ecc",
   "metadata": {},
   "outputs": [],
   "source": [
    "ans:The structure of a document is represented by three different data types in python-Docx. At the highest level, a Document object represents the entire document. The Document object contains a list of Paragraph objects for the paragraphs in the document.\n",
    "    (A new paragraph begins whenever the user presses ENTER or RETURN while typing in a Word document.)\n",
    "    Each of these Paragraph objects contains a list of one or more Run objects.\n",
    "    The text in a Word document is more than just a string. It has font, size, color, \n",
    "    and other styling information associated with it. A style in Word is a collection of these attributes. \n",
    "    A Run object is a contiguous run of text with the same style. \n",
    "    A new Run object is needed whenever the text style changes."
   ]
  },
  {
   "cell_type": "markdown",
   "id": "a96dca3e",
   "metadata": {},
   "source": [
    "7. How do you obtain a list of Paragraph objects for a Document object that’s stored in a variable\n",
    "named doc?\n"
   ]
  },
  {
   "cell_type": "code",
   "execution_count": null,
   "id": "0e4c3a9a",
   "metadata": {},
   "outputs": [],
   "source": [
    "#example program for obtaining paragraph objects\n",
    "from docx import document\n",
    "doc = Document(\"samplefile.docx\")\n",
    "print(doc.paragraphs) #prints the paragraphs in the document\n",
    "for paragraph in doc.paragraphs\n",
    "    print(paragraph.text)#prints the text in the paragraph\n"
   ]
  },
  {
   "cell_type": "markdown",
   "id": "45bb4e89",
   "metadata": {},
   "source": [
    "8. What type of object has bold, underline, italic, strike, and outline variables?"
   ]
  },
  {
   "cell_type": "code",
   "execution_count": null,
   "id": "9c8ce4ea",
   "metadata": {},
   "outputs": [],
   "source": [
    "ans:\n",
    "    Run object has bold,underline,italic,strike and outline variables.The text in word document is more than just a string\n",
    "    It has font,color,size and other styling information associated with it\n",
    "    A run object is contiguos style of running of the  text same style.when ever we change the style we need new run object"
   ]
  },
  {
   "cell_type": "markdown",
   "id": "b3c2867c",
   "metadata": {},
   "source": [
    "9. What is the difference between False, True, and None for the bold variable?"
   ]
  },
  {
   "cell_type": "code",
   "execution_count": null,
   "id": "6e2b6e1e",
   "metadata": {},
   "outputs": [],
   "source": [
    "ans:\n",
    "bold = True #style set to bold\n",
    "bold = False #style not set to bold\n",
    "bold = None #none of the style set"
   ]
  },
  {
   "cell_type": "markdown",
   "id": "f6a38b94",
   "metadata": {},
   "source": [
    "10. How do you create a Document object for a new Word document?"
   ]
  },
  {
   "cell_type": "code",
   "execution_count": null,
   "id": "4ff546c4",
   "metadata": {},
   "outputs": [],
   "source": [
    "ans:\n",
    "    from docx import document\n",
    "    doc = Document()\n",
    "    doc.addParagraph(\"this is new paragraph\")\n",
    "    doc.save(\"newdocument.docx\")"
   ]
  },
  {
   "cell_type": "markdown",
   "id": "2d90032f",
   "metadata": {},
   "source": [
    "11. How do you add a paragraph with the text &#39;Hello, there!&#39; to a Document object stored in a\n",
    "variable named doc?"
   ]
  },
  {
   "cell_type": "code",
   "execution_count": null,
   "id": "4c55a264",
   "metadata": {},
   "outputs": [],
   "source": [
    "ans:\n",
    "    from docx import document\n",
    "    doc = Document()\n",
    "    doc.addParagraph(\"Hello, there\")\n",
    "    doc.save(\"mydocument.docx\")"
   ]
  },
  {
   "cell_type": "markdown",
   "id": "82247f5b",
   "metadata": {},
   "source": [
    "12. What integers represent the levels of headings available in Word documents?"
   ]
  },
  {
   "cell_type": "code",
   "execution_count": null,
   "id": "2970f937",
   "metadata": {},
   "outputs": [],
   "source": [
    "ans:The levels for a heading in a word document can be specified by using the 'level' attribute inside the add_heading method.\n",
    "    There are a total of 5 levels statring for 0 t0 4. where level 0 makes a headline with the horizontal line below the text, whereas the heading level 1 is the main heading. \n",
    "    Similarly, the other headings are sub-heading with their's  font-sizes in decreasing order."
   ]
  }
 ],
 "metadata": {
  "kernelspec": {
   "display_name": "Python 3 (ipykernel)",
   "language": "python",
   "name": "python3"
  },
  "language_info": {
   "codemirror_mode": {
    "name": "ipython",
    "version": 3
   },
   "file_extension": ".py",
   "mimetype": "text/x-python",
   "name": "python",
   "nbconvert_exporter": "python",
   "pygments_lexer": "ipython3",
   "version": "3.9.13"
  }
 },
 "nbformat": 4,
 "nbformat_minor": 5
}
