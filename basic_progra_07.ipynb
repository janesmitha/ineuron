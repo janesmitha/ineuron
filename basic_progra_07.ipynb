{
 "cells": [
  {
   "cell_type": "markdown",
   "id": "2137a227",
   "metadata": {},
   "source": [
    "1. Write a Python Program to find sum of array?"
   ]
  },
  {
   "cell_type": "code",
   "execution_count": 1,
   "id": "a83b9f30",
   "metadata": {},
   "outputs": [
    {
     "name": "stdout",
     "output_type": "stream",
     "text": [
      "Sum of array elements: 62\n"
     ]
    }
   ],
   "source": [
    "arr=[12,2,3,45]\n",
    "sum=0\n",
    "for i in range(0,len(arr)):\n",
    "    sum=sum+arr[i]\n",
    "print(\"Sum of array elements:\",+sum)    \n",
    "    "
   ]
  },
  {
   "cell_type": "code",
   "execution_count": null,
   "id": "2b223f1c",
   "metadata": {},
   "outputs": [],
   "source": [
    "2. Write a Python Program to find largest element in an array?"
   ]
  },
  {
   "cell_type": "code",
   "execution_count": 3,
   "id": "ec727934",
   "metadata": {},
   "outputs": [
    {
     "name": "stdout",
     "output_type": "stream",
     "text": [
      "max element is: 45\n"
     ]
    }
   ],
   "source": [
    "arr=[12,2,3,45]\n",
    "max=arr[0]\n",
    "for i in range(0,len(arr)):\n",
    "    if(arr[i]>max):\n",
    "        max=arr[i]\n",
    "print(\"max element is:\",max)        \n",
    "        \n",
    "\n",
    "    "
   ]
  },
  {
   "cell_type": "markdown",
   "id": "a97c5e37",
   "metadata": {},
   "source": [
    "3. Write a Python Program for array rotation?"
   ]
  },
  {
   "cell_type": "code",
   "execution_count": 3,
   "id": "da427a86",
   "metadata": {},
   "outputs": [
    {
     "name": "stdout",
     "output_type": "stream",
     "text": [
      "array rotation [1, 23, 3, 42, 22]\n"
     ]
    }
   ],
   "source": [
    "def arr_rotation(a,l):\n",
    "    n=len(a)\n",
    "    a[:]=a[l:n] + a[0:l]\n",
    "    return a\n",
    "arr_ex=[23,3,42,22,1]\n",
    "print(\"array rotation\",arr_rotation(arr_ex,4))"
   ]
  },
  {
   "cell_type": "markdown",
   "id": "c2af45af",
   "metadata": {},
   "source": [
    "4. Write a Python Program to Split the array and add the first part to the end?"
   ]
  },
  {
   "cell_type": "code",
   "execution_count": 13,
   "id": "0ffca178",
   "metadata": {},
   "outputs": [
    {
     "name": "stdout",
     "output_type": "stream",
     "text": [
      "5 6 52 36 12 10 "
     ]
    }
   ],
   "source": [
    "def arr_split(a,n,k):\n",
    "    b=a[:k]\n",
    "    return (a[k::]+b[::])\n",
    "arr=[12, 10, 5, 6, 52, 36]\n",
    "n=len(arr)\n",
    "position=2\n",
    "arr=arr_split(arr,n,position)\n",
    "for i in range(0,n):\n",
    "    print(arr[i],end=\" \")\n",
    "\n",
    "    "
   ]
  },
  {
   "cell_type": "code",
   "execution_count": 15,
   "id": "a4a04d27",
   "metadata": {},
   "outputs": [
    {
     "name": "stdout",
     "output_type": "stream",
     "text": [
      "12 44 33 8 78 2 3 "
     ]
    }
   ],
   "source": [
    "#another solution\n",
    "arr=[2,3,12,44,33,8,78]\n",
    "n=len(arr)\n",
    "position=2\n",
    "x=arr[:position]\n",
    "y=arr[position:]\n",
    "y.extend(x)\n",
    "for i in y:\n",
    "    print(i,end=' ')\n",
    "     "
   ]
  },
  {
   "cell_type": "markdown",
   "id": "e58abfa1",
   "metadata": {},
   "source": [
    "5. Write a Python Program to check if given array is Monotonic?"
   ]
  },
  {
   "cell_type": "code",
   "execution_count": 26,
   "id": "ca205a8a",
   "metadata": {},
   "outputs": [
    {
     "name": "stdout",
     "output_type": "stream",
     "text": [
      "True\n",
      "False\n"
     ]
    }
   ],
   "source": [
    "def is_monotone(a):\n",
    "    n=len(a) #arraylength\n",
    "    if n==1:\n",
    "        return True\n",
    "    else:\n",
    "        if all(a[i]>=a[i+1] for i in range(0,n-1) or a[i]<=a[i+1] for i in range(0,n-1)):\n",
    "            return True\n",
    "        else:\n",
    "            return False\n",
    "    \n",
    "a=[6, 5, 4, 2]\n",
    "b=[3,4,6,10,11]\n",
    "print(is_monotone(a))\n",
    "print(is_monotone(b))"
   ]
  },
  {
   "cell_type": "code",
   "execution_count": 27,
   "id": "f84e496c",
   "metadata": {},
   "outputs": [
    {
     "name": "stdout",
     "output_type": "stream",
     "text": [
      "True\n"
     ]
    }
   ],
   "source": [
    "def isMonotonic(A):\n",
    "    x, y = [], []\n",
    "    x.extend(A)\n",
    "    y.extend(A)\n",
    "    x.sort()\n",
    "    y.sort(reverse=True)\n",
    "    if(x == A or y == A):\n",
    "        return True\n",
    "    return False\n",
    " \n",
    " \n",
    "# Driver program\n",
    "A = [6, 5, 4, 4]\n",
    " \n",
    "# Print required result\n",
    "print(isMonotonic(A))"
   ]
  }
 ],
 "metadata": {
  "kernelspec": {
   "display_name": "Python 3 (ipykernel)",
   "language": "python",
   "name": "python3"
  },
  "language_info": {
   "codemirror_mode": {
    "name": "ipython",
    "version": 3
   },
   "file_extension": ".py",
   "mimetype": "text/x-python",
   "name": "python",
   "nbconvert_exporter": "python",
   "pygments_lexer": "ipython3",
   "version": "3.9.13"
  }
 },
 "nbformat": 4,
 "nbformat_minor": 5
}
