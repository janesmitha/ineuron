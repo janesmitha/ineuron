{
 "cells": [
  {
   "cell_type": "code",
   "execution_count": null,
   "id": "ba79c510",
   "metadata": {},
   "outputs": [],
   "source": [
    "#1.What are the two values of the Boolean data type? How do you write them?"
   ]
  },
  {
   "cell_type": "code",
   "execution_count": null,
   "id": "21e9b346",
   "metadata": {},
   "outputs": [],
   "source": [
    "Two values of boolean datatype are :\n",
    "    1.TRUE\n",
    "    2.FALSE\n",
    " we write them as true as 1 and false as 0.We represent these built in datatypes in expresssions   "
   ]
  },
  {
   "cell_type": "code",
   "execution_count": null,
   "id": "487eacc3",
   "metadata": {},
   "outputs": [],
   "source": [
    "2. What are the three different types of Boolean operators?"
   ]
  },
  {
   "cell_type": "code",
   "execution_count": null,
   "id": "e96d02ff",
   "metadata": {},
   "outputs": [],
   "source": [
    "Three different Boolean operators are 'and','or','not'"
   ]
  },
  {
   "cell_type": "code",
   "execution_count": null,
   "id": "891871a7",
   "metadata": {},
   "outputs": [],
   "source": [
    "#3. Make a list of each Boolean operator&#39;s truth tables (i.e. every possible combination of Boolean\n",
    "     values for the operator and what it evaluate )."
   ]
  },
  {
   "cell_type": "code",
   "execution_count": null,
   "id": "553819e8",
   "metadata": {},
   "outputs": [],
   "source": [
    " True and True is True.\n",
    "\n",
    "True and False is False.\n",
    "\n",
    "False and True is False.\n",
    "\n",
    "False and False is False.\n",
    "\n",
    "True or True is True.\n",
    "\n",
    "True or False is True.\n",
    "\n",
    "False or True is True.\n",
    "\n",
    "False or False is False.\n",
    "\n",
    "not True is False.\n",
    "\n",
    "not False is True."
   ]
  },
  {
   "cell_type": "code",
   "execution_count": null,
   "id": "184a6753",
   "metadata": {},
   "outputs": [],
   "source": []
  },
  {
   "cell_type": "code",
   "execution_count": null,
   "id": "aa4dce18",
   "metadata": {},
   "outputs": [],
   "source": [
    "4. What are the values of the following expressions?\n",
    "(5 &gt; 4) and (3 == 5)\n",
    "not (5 &gt; 4)\n",
    "(5 &gt; 4) or (3 == 5)\n",
    "not ((5 &gt; 4) or (3 == 5))\n",
    "(True and True) and (True == False)\n",
    "(not False) or (not True)"
   ]
  },
  {
   "cell_type": "code",
   "execution_count": 7,
   "id": "59306cd2",
   "metadata": {},
   "outputs": [
    {
     "name": "stdout",
     "output_type": "stream",
     "text": [
      "False\n",
      "False\n",
      "True\n",
      "False\n",
      "True\n",
      "True\n"
     ]
    },
    {
     "data": {
      "text/plain": [
       "False"
      ]
     },
     "execution_count": 7,
     "metadata": {},
     "output_type": "execute_result"
    }
   ],
   "source": [
    "print((5>4) and (3 == 5))\n",
    "print(not(5>4))\n",
    "print((5>4) or (3 == 5))\n",
    "print(not(5>4) or(3 ==5))\n",
    "print(True and True) and (True == False)\n",
    "print(not False) or (not True)"
   ]
  },
  {
   "cell_type": "code",
   "execution_count": 8,
   "id": "2c464cbb",
   "metadata": {},
   "outputs": [
    {
     "name": "stdout",
     "output_type": "stream",
     "text": [
      "True\n"
     ]
    }
   ],
   "source": [
    "print(True and True) and (True == False)"
   ]
  },
  {
   "cell_type": "code",
   "execution_count": null,
   "id": "78288372",
   "metadata": {},
   "outputs": [],
   "source": [
    "#5. What are the six comparison operators?"
   ]
  },
  {
   "cell_type": "code",
   "execution_count": null,
   "id": "21c1da1c",
   "metadata": {},
   "outputs": [],
   "source": [
    "==,!=,>,>=,<=,<"
   ]
  },
  {
   "cell_type": "code",
   "execution_count": null,
   "id": "a8bebf04",
   "metadata": {},
   "outputs": [],
   "source": [
    "#6. How do you tell the difference between the equal to\n",
    "    and assignment operators?Describe a  condition and when you would use one."
   ]
  },
  {
   "cell_type": "code",
   "execution_count": null,
   "id": "4c87e366",
   "metadata": {},
   "outputs": [],
   "source": [
    "== is an operator which evaluates two values and returns true or false .Where as = is an \n",
    "assignment operator which assigns value and stores it as a variable"
   ]
  },
  {
   "cell_type": "code",
   "execution_count": 27,
   "id": "9666aa0c",
   "metadata": {},
   "outputs": [
    {
     "name": "stdout",
     "output_type": "stream",
     "text": [
      "False\n",
      "a = 4\n"
     ]
    }
   ],
   "source": [
    "#ex: \n",
    "if(4==3):\n",
    "    print(\"True\")\n",
    "else:\n",
    "    print(\"False\")\n",
    "#ex: \n",
    "\n",
    "#assignment operator\n",
    "a=4\n",
    "print(\"a =\",a)\n",
    "    "
   ]
  },
  {
   "cell_type": "code",
   "execution_count": null,
   "id": "be612bb9",
   "metadata": {},
   "outputs": [],
   "source": [
    "7. Identify the three blocks in this code:\n",
    "spam = 0\n",
    "if spam == 10:\n",
    "print(&#39;eggs&#39;)\n",
    "if spam &gt; 5:\n",
    "print(&#39;bacon&#39;)\n",
    "else:\n",
    "print(&#39;ham&#39;)\n",
    "print(&#39;spam&#39;)\n",
    "print(&#39;spam&#39;)"
   ]
  },
  {
   "cell_type": "code",
   "execution_count": 28,
   "id": "0faf6ee0",
   "metadata": {},
   "outputs": [
    {
     "name": "stdout",
     "output_type": "stream",
     "text": [
      "ham\n",
      "spam\n",
      "spam\n"
     ]
    }
   ],
   "source": [
    "spam = 0\n",
    "if spam ==10:\n",
    "    print(\"eggs\")\n",
    "if spam > 5:\n",
    "    print(\"bacan\")\n",
    "else:\n",
    "    print('ham')\n",
    "    print('spam')\n",
    "    print('spam')    "
   ]
  },
  {
   "cell_type": "code",
   "execution_count": null,
   "id": "7c2742c7",
   "metadata": {},
   "outputs": [],
   "source": [
    "#8. Write code that prints Hello if 1 is stored in spam, prints Howdy if 2 is stored in spam, and prints\n",
    "  Greetings! if anything else is stored in spam."
   ]
  },
  {
   "cell_type": "code",
   "execution_count": 31,
   "id": "1e0a1eaa",
   "metadata": {},
   "outputs": [
    {
     "name": "stdout",
     "output_type": "stream",
     "text": [
      "enter number to check:2\n",
      "howdy\n"
     ]
    }
   ],
   "source": [
    "spam = int(input(\"enter number to check:\"))\n",
    "if spam==1:\n",
    "    print('hello')\n",
    "elif spam==2:\n",
    "    print('howdy')\n",
    "else:\n",
    "    print(\"Greetings!\")\n",
    "    "
   ]
  },
  {
   "cell_type": "code",
   "execution_count": null,
   "id": "b1d29c55",
   "metadata": {},
   "outputs": [],
   "source": [
    "#9.If your programme is stuck in an endless loop, what keys you’ll press?"
   ]
  },
  {
   "cell_type": "code",
   "execution_count": null,
   "id": "804ca55f",
   "metadata": {},
   "outputs": [],
   "source": [
    "We will press ctrl+c"
   ]
  },
  {
   "cell_type": "code",
   "execution_count": null,
   "id": "2948803c",
   "metadata": {},
   "outputs": [],
   "source": [
    "#10. How can you tell the difference between break and continue?"
   ]
  },
  {
   "cell_type": "code",
   "execution_count": null,
   "id": "bf6cc990",
   "metadata": {},
   "outputs": [],
   "source": [
    "The break statement will move the execution outside and just after a loop. \n",
    "The continue statement will move the execution to the start of the loop."
   ]
  },
  {
   "cell_type": "code",
   "execution_count": 36,
   "id": "9c3ad2ba",
   "metadata": {},
   "outputs": [
    {
     "name": "stdout",
     "output_type": "stream",
     "text": [
      "0\n",
      "1\n",
      "2\n",
      "3\n",
      "4\n",
      "5\n",
      "6\n",
      "7\n"
     ]
    }
   ],
   "source": [
    "#ex:(break statement)\n",
    "for i in range(10):\n",
    "    if (i==8):\n",
    "        break\n",
    "    print(i)"
   ]
  },
  {
   "cell_type": "code",
   "execution_count": 37,
   "id": "1c01112f",
   "metadata": {},
   "outputs": [
    {
     "name": "stdout",
     "output_type": "stream",
     "text": [
      "0\n",
      "1\n",
      "2\n",
      "3\n",
      "4\n"
     ]
    }
   ],
   "source": [
    "#ex (continue statement)\n",
    "for i in range(6):\n",
    "    if(i==5):\n",
    "        continue\n",
    "    print(i)   \n",
    "    \n"
   ]
  },
  {
   "cell_type": "code",
   "execution_count": null,
   "id": "5796ce61",
   "metadata": {},
   "outputs": [],
   "source": [
    "11. In a for loop, what is the difference between range(10), range(0, 10), and range(0, 10, 1)?"
   ]
  },
  {
   "cell_type": "code",
   "execution_count": null,
   "id": "451c45c0",
   "metadata": {},
   "outputs": [],
   "source": [
    "ans:The range(10) call ranges from 0 up to (but not including) 10, range(0, 10) tells the loop to start at 0, and\n",
    "range(0, 10, 1) tells the loop to increase the variable by 1 on each iteration."
   ]
  },
  {
   "cell_type": "code",
   "execution_count": 42,
   "id": "95d14a64",
   "metadata": {},
   "outputs": [
    {
     "name": "stdout",
     "output_type": "stream",
     "text": [
      "0\n",
      "1\n",
      "2\n",
      "3\n",
      "4\n",
      "5\n",
      "6\n",
      "7\n",
      "8\n",
      "9\n",
      "********************************\n",
      "0\n",
      "1\n",
      "2\n",
      "3\n",
      "4\n",
      "5\n",
      "6\n",
      "7\n",
      "8\n",
      "9\n",
      "###################\n",
      "0\n",
      "1\n",
      "2\n",
      "3\n",
      "4\n",
      "5\n",
      "6\n",
      "7\n",
      "8\n",
      "9\n"
     ]
    }
   ],
   "source": [
    "#ex:\n",
    "for i in range(10):\n",
    "    print(i)\n",
    "print(\"********************************\")\n",
    "for i in range(0,10):\n",
    "    print(i)\n",
    "print('##################################')\n",
    "for i in range(0,10,1):\n",
    "    print(i)"
   ]
  },
  {
   "cell_type": "code",
   "execution_count": null,
   "id": "ec682466",
   "metadata": {},
   "outputs": [],
   "source": [
    "#12. Write a short program that prints the numbers 1 to 10 using a for loop. Then write an equivalent\n",
    "program that prints the numbers 1 to 10 using a while loop."
   ]
  },
  {
   "cell_type": "code",
   "execution_count": 49,
   "id": "ebc93ae9",
   "metadata": {},
   "outputs": [
    {
     "name": "stdout",
     "output_type": "stream",
     "text": [
      "0\n",
      "1\n",
      "2\n",
      "3\n",
      "4\n",
      "5\n",
      "6\n",
      "7\n",
      "8\n",
      "9\n",
      "10\n",
      "while loop\n",
      "1\n",
      "2\n",
      "3\n",
      "4\n",
      "5\n",
      "6\n",
      "7\n",
      "8\n",
      "9\n",
      "10\n"
     ]
    }
   ],
   "source": [
    "# program to print numbers 1 to 10  using for loop\n",
    "for i in range(0,11):\n",
    "    print(i)\n",
    "#use of while loop\n",
    "print(\"while loop\")\n",
    "i=1\n",
    "while i<=10:\n",
    "    print(i)\n",
    "    i += 1"
   ]
  },
  {
   "cell_type": "code",
   "execution_count": null,
   "id": "e25d36a7",
   "metadata": {},
   "outputs": [],
   "source": [
    "#13. If you had a function named bacon() inside a module named spam, how would you call it after\n",
    "   importing spam?"
   ]
  },
  {
   "cell_type": "code",
   "execution_count": null,
   "id": "db02c72b",
   "metadata": {},
   "outputs": [],
   "source": [
    "This function can be called with spam.bacon()."
   ]
  }
 ],
 "metadata": {
  "kernelspec": {
   "display_name": "Python 3 (ipykernel)",
   "language": "python",
   "name": "python3"
  },
  "language_info": {
   "codemirror_mode": {
    "name": "ipython",
    "version": 3
   },
   "file_extension": ".py",
   "mimetype": "text/x-python",
   "name": "python",
   "nbconvert_exporter": "python",
   "pygments_lexer": "ipython3",
   "version": "3.9.13"
  }
 },
 "nbformat": 4,
 "nbformat_minor": 5
}
