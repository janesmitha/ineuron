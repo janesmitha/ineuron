{
 "cells": [
  {
   "cell_type": "markdown",
   "id": "70d4300e",
   "metadata": {},
   "source": [
    "1. Write a Python Program to Add Two Matrices?"
   ]
  },
  {
   "cell_type": "code",
   "execution_count": 1,
   "id": "315ce906",
   "metadata": {},
   "outputs": [
    {
     "name": "stdout",
     "output_type": "stream",
     "text": [
      "[5, 3, 8]\n",
      "[3, 7, 9]\n",
      "[9, 3, 3]\n"
     ]
    }
   ],
   "source": [
    "x=[[1,2,6],\n",
    "    [2,5,6],\n",
    "    [5,1,2]]\n",
    "\n",
    "y=[[4,1,2],\n",
    "    [1,2,3],\n",
    "    [4,2,1]]\n",
    "\n",
    "result=[[0,0,0],\n",
    "        [0,0,0],\n",
    "        [0,0,0]]\n",
    "for i in range(len(x)):\n",
    "    for j in range(len(x[0])):\n",
    "        result[i][j]=x[i][j]+y[i][j]\n",
    "for r in result:\n",
    "    print(r)\n",
    "        \n"
   ]
  },
  {
   "cell_type": "markdown",
   "id": "031056fc",
   "metadata": {},
   "source": [
    "2. Write a Python Program to Multiply Two Matrices?"
   ]
  },
  {
   "cell_type": "code",
   "execution_count": 7,
   "id": "ad2ba9e1",
   "metadata": {},
   "outputs": [
    {
     "name": "stdout",
     "output_type": "stream",
     "text": [
      "[30, 17, 14]\n",
      "[37, 24, 25]\n",
      "[29, 11, 15]\n"
     ]
    }
   ],
   "source": [
    "x=[[1,2,6],\n",
    "    [2,5,6],\n",
    "    [5,1,2]]\n",
    "\n",
    "y=[[4,1,2],\n",
    "    [1,2,3],\n",
    "    [4,2,1]]\n",
    "\n",
    "result=[[0,0,0],\n",
    "        [0,0,0],\n",
    "        [0,0,0]]\n",
    "\n",
    "# iterate through rows of X\n",
    "for i in range(len(x)):\n",
    "   # iterate through columns of Y\n",
    "   for j in range(len(y[0])):\n",
    "       # iterate through rows of Y\n",
    "       for k in range(len(y)):\n",
    "            result[i][j] += x[i][k] * y[k][j]\n",
    "\n",
    "for r in result:\n",
    "    print(r)\n",
    "\n"
   ]
  },
  {
   "cell_type": "markdown",
   "id": "dff2a4de",
   "metadata": {},
   "source": [
    "\n",
    "3. Write a Python Program to Transpose a Matrix?"
   ]
  },
  {
   "cell_type": "code",
   "execution_count": 8,
   "id": "a43fb2d0",
   "metadata": {},
   "outputs": [
    {
     "name": "stdout",
     "output_type": "stream",
     "text": [
      "[1, 3, 7]\n",
      "[3, 4, 8]\n",
      "[2, 2, 7]\n"
     ]
    }
   ],
   "source": [
    "x=[[1,3,2],\n",
    "  [3,4,2],\n",
    "  [7,8,7]]\n",
    "\n",
    "for i in range(len(x)):\n",
    "    for j in range(len(x[0])):\n",
    "        result[j][i]=x[i][j]\n",
    "for i in result:\n",
    "    print(i)\n",
    "        \n",
    "        \n",
    "        "
   ]
  },
  {
   "cell_type": "markdown",
   "id": "4f6e8073",
   "metadata": {},
   "source": [
    "4. Write a Python Program to Sort Words in Alphabetic Order?"
   ]
  },
  {
   "cell_type": "code",
   "execution_count": 11,
   "id": "7ca73f61",
   "metadata": {},
   "outputs": [
    {
     "name": "stdout",
     "output_type": "stream",
     "text": [
      "Enter a string: python is easy to understand\n",
      "easy\n",
      "is\n",
      "python\n",
      "to\n",
      "understand\n"
     ]
    }
   ],
   "source": [
    "my_str = input(\"Enter a string: \")\n",
    "sort_str=[word.lower() for word in my_str.split()]\n",
    "sort_str.sort()\n",
    "for word in sort_str:\n",
    "    #printing sorted words\n",
    "    print(word)"
   ]
  },
  {
   "cell_type": "markdown",
   "id": "b2a4dada",
   "metadata": {},
   "source": [
    "5. Write a Python Program to Remove Punctuation From a String?"
   ]
  },
  {
   "cell_type": "code",
   "execution_count": 13,
   "id": "b0309ca7",
   "metadata": {},
   "outputs": [
    {
     "name": "stdout",
     "output_type": "stream",
     "text": [
      "Enter a string: jhj-0q93kljsfddkjla87873(*\n",
      " jhj0q93kljsfddkjla87873\n"
     ]
    }
   ],
   "source": [
    "# define punctuation\n",
    "punctuations = '''!()-[]{};:'\"\\,<>./?@#$%^&*_~'''\n",
    "my_str = input(\"Enter a string: \")\n",
    "no_punct=\" \"\n",
    "for char in my_str:\n",
    "    if char not in punctuations:\n",
    "        no_punct=no_punct + char\n",
    "print(no_punct)        "
   ]
  }
 ],
 "metadata": {
  "kernelspec": {
   "display_name": "Python 3 (ipykernel)",
   "language": "python",
   "name": "python3"
  },
  "language_info": {
   "codemirror_mode": {
    "name": "ipython",
    "version": 3
   },
   "file_extension": ".py",
   "mimetype": "text/x-python",
   "name": "python",
   "nbconvert_exporter": "python",
   "pygments_lexer": "ipython3",
   "version": "3.9.13"
  }
 },
 "nbformat": 4,
 "nbformat_minor": 5
}
