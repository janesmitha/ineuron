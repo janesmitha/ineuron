{
 "cells": [
  {
   "cell_type": "markdown",
   "id": "85c2bb30",
   "metadata": {},
   "source": [
    "1. Write a Python program to find words which are greater than given length k?"
   ]
  },
  {
   "cell_type": "code",
   "execution_count": 6,
   "id": "aef8cea6",
   "metadata": {},
   "outputs": [
    {
     "name": "stdout",
     "output_type": "stream",
     "text": [
      "Python\n",
      "good\n"
     ]
    }
   ],
   "source": [
    "def word_k(k, s):    \n",
    "    # split the string where space comes\n",
    "    word = s.split(\" \")\n",
    "    # iterate the loop for every word\n",
    "    for x in word:\n",
    "        # if length of current word\n",
    "        if len(x)>k:\n",
    "          # greater than k then\n",
    "          print(x)\n",
    "k = 3\n",
    "s =\"Python is good\"\n",
    "word_k(k, s)"
   ]
  },
  {
   "cell_type": "markdown",
   "id": "2a06457f",
   "metadata": {},
   "source": [
    "2. Write a Python program for removing i-th character from a string?"
   ]
  },
  {
   "cell_type": "code",
   "execution_count": 14,
   "id": "e7d65378",
   "metadata": {},
   "outputs": [
    {
     "name": "stdout",
     "output_type": "stream",
     "text": [
      "original:  application\n",
      "After removing:  pplication\n"
     ]
    }
   ],
   "source": [
    "# Remove i'th character\n",
    "string=\"application\"\n",
    "i=1\n",
    "print(\"original: \",string)\n",
    "# Initialise new string\n",
    "new_s= \"\"\n",
    "# Removing character\n",
    "for k in range(len(string)):\n",
    "    if k!=i-1:\n",
    "        new_s=new_s+string[k]\n",
    "\n",
    "# After removal of character\n",
    "print(\"After removing: \",new_s)"
   ]
  },
  {
   "cell_type": "markdown",
   "id": "4436266c",
   "metadata": {},
   "source": [
    "3. Write a Python program to split and join a string?"
   ]
  },
  {
   "cell_type": "code",
   "execution_count": 21,
   "id": "85a37dea",
   "metadata": {},
   "outputs": [
    {
     "name": "stdout",
     "output_type": "stream",
     "text": [
      "after splitting: ['once', 'there', 'is', 'a', 'string']\n",
      "after joining: once-there-is-a-string\n"
     ]
    }
   ],
   "source": [
    "def split_str(string):\n",
    "    list=string.split(\" \")\n",
    "    return list\n",
    "def join_str(string):\n",
    "    str='-'.join(list)\n",
    "    return str\n",
    "str=\"once there is a string\"\n",
    "list=split_str(str)\n",
    "print(\"after splitting:\",list)\n",
    "result=join_str(list)\n",
    "print(\"after joining:\",result)"
   ]
  },
  {
   "cell_type": "markdown",
   "id": "0fdd52d5",
   "metadata": {},
   "source": [
    "4. Write a Python to check if a given string is binary string or not?"
   ]
  },
  {
   "cell_type": "code",
   "execution_count": 2,
   "id": "fdc92294",
   "metadata": {},
   "outputs": [
    {
     "name": "stdout",
     "output_type": "stream",
     "text": [
      "string is binary string\n"
     ]
    }
   ],
   "source": [
    "string='00110011'\n",
    "t={'0','1'}\n",
    "b=set(string)\n",
    "if t==b or t=={'0'} or t=={'1'}:\n",
    "    print(\"string is binary string\")\n",
    "else:\n",
    "    print(\"string is not a binary string\")\n",
    "    \n",
    "\n"
   ]
  },
  {
   "cell_type": "markdown",
   "id": "2d207a03",
   "metadata": {},
   "source": [
    "5. Write a Python program to find uncommon words from two Strings?"
   ]
  },
  {
   "cell_type": "code",
   "execution_count": 6,
   "id": "fdd14782",
   "metadata": {},
   "outputs": [
    {
     "name": "stdout",
     "output_type": "stream",
     "text": [
      " not\n"
     ]
    }
   ],
   "source": [
    "def uncommon_word(s1,s2):\n",
    "    list_s1=s1.split()\n",
    "    list_s2=s2.split()\n",
    "    uncom_words=\"\"\n",
    "    for i in list_s1:\n",
    "        if i not in list_s2:\n",
    "            uncom_words=uncom_words+\" \"+i\n",
    "    for j in list_s2:\n",
    "        if j not in list_s1:\n",
    "            uncom_words=uncom_words+\" \"+j\n",
    "    return uncom_words\n",
    "a=\"this is a string\"\n",
    "b=\"this is not a string\"\n",
    "print(uncommon_word(a,b))\n",
    "            \n",
    "            "
   ]
  },
  {
   "cell_type": "markdown",
   "id": "31a3a70a",
   "metadata": {},
   "source": [
    "6. Write a Python to find all duplicate characters in string?"
   ]
  },
  {
   "cell_type": "code",
   "execution_count": 10,
   "id": "e6041b0a",
   "metadata": {},
   "outputs": [
    {
     "name": "stdout",
     "output_type": "stream",
     "text": [
      "{'c': 1, 'b': 1, 'a': 3}\n"
     ]
    }
   ],
   "source": [
    "def find_duplicate(x):\n",
    "    result = {}\n",
    "    for char in set(x):\n",
    "        result[char]=x.count(char)\n",
    "    return result\n",
    "x='abcaa'\n",
    "print(find_duplicate(x))"
   ]
  },
  {
   "cell_type": "markdown",
   "id": "89e3bd2a",
   "metadata": {},
   "source": [
    "7. Write a Python Program to check if a string contains any special character?"
   ]
  },
  {
   "cell_type": "code",
   "execution_count": 12,
   "id": "1fd40726",
   "metadata": {},
   "outputs": [
    {
     "name": "stdout",
     "output_type": "stream",
     "text": [
      "invalid\n"
     ]
    }
   ],
   "source": [
    "o=\"this is@$$\"\n",
    "import re\n",
    "if(bool(re.match('^[a-zA-Z0-9]*$',o))==True):\n",
    "    print(\"valid\")\n",
    "else:\n",
    "    print(\"invalid\")"
   ]
  }
 ],
 "metadata": {
  "kernelspec": {
   "display_name": "Python 3 (ipykernel)",
   "language": "python",
   "name": "python3"
  },
  "language_info": {
   "codemirror_mode": {
    "name": "ipython",
    "version": 3
   },
   "file_extension": ".py",
   "mimetype": "text/x-python",
   "name": "python",
   "nbconvert_exporter": "python",
   "pygments_lexer": "ipython3",
   "version": "3.9.13"
  }
 },
 "nbformat": 4,
 "nbformat_minor": 5
}
