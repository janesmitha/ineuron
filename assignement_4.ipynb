{
 "cells": [
  {
   "cell_type": "code",
   "execution_count": null,
   "id": "19617083",
   "metadata": {},
   "outputs": [],
   "source": [
    "1. What exactly is []?\n"
   ]
  },
  {
   "cell_type": "code",
   "execution_count": null,
   "id": "5a1339e5",
   "metadata": {},
   "outputs": [],
   "source": [
    "ans: it is an empty list"
   ]
  },
  {
   "cell_type": "code",
   "execution_count": null,
   "id": "0d12ccf7",
   "metadata": {},
   "outputs": [],
   "source": [
    "2. In a list of values stored in a variable called spam, how would you assign the value &#39;hello&#39; as the\n",
    "third value? (Assume [2, 4, 6, 8, 10] are in spam.)\n",
    "Let&#39;s pretend the spam includes the list [&#39;a&#39;, &#39;b&#39;, &#39;c&#39;, &#39;d&#39;] for the next three queries.\n",
    "\n"
   ]
  },
  {
   "cell_type": "code",
   "execution_count": 15,
   "id": "a413d116",
   "metadata": {},
   "outputs": [],
   "source": [
    "spam=[2,4,6,8,10]\n"
   ]
  },
  {
   "cell_type": "code",
   "execution_count": 16,
   "id": "f8fdd1f6",
   "metadata": {},
   "outputs": [
    {
     "name": "stdout",
     "output_type": "stream",
     "text": [
      "[2, 4, 6, 'hello', 8, 10]\n"
     ]
    }
   ],
   "source": [
    "spam.insert(3,\"hello\")\n",
    "print(spam)"
   ]
  },
  {
   "cell_type": "markdown",
   "id": "476f823f",
   "metadata": {},
   "source": [
    "3. What is the value of spam[int(int(&#39;3&#39; * 2) / 11)]?"
   ]
  },
  {
   "cell_type": "code",
   "execution_count": 18,
   "id": "d2653d8a",
   "metadata": {},
   "outputs": [
    {
     "data": {
      "text/plain": [
       "'hello'"
      ]
     },
     "execution_count": 18,
     "metadata": {},
     "output_type": "execute_result"
    }
   ],
   "source": [
    "spam[int(int('3' * 2) / 11)]"
   ]
  },
  {
   "cell_type": "markdown",
   "id": "4943ff50",
   "metadata": {},
   "source": [
    "4. What is the value of spam[-1]?\n"
   ]
  },
  {
   "cell_type": "code",
   "execution_count": 79,
   "id": "adbe4940",
   "metadata": {},
   "outputs": [
    {
     "data": {
      "text/plain": [
       "10"
      ]
     },
     "execution_count": 79,
     "metadata": {},
     "output_type": "execute_result"
    }
   ],
   "source": [
    "spam[-1]"
   ]
  },
  {
   "cell_type": "markdown",
   "id": "9dd11329",
   "metadata": {},
   "source": [
    "5. What is the value of spam[:2]?\n",
    "Let&#39;s pretend bacon has the list [3.14, &#39;cat,&#39; 11, &#39;cat,&#39; True] for the next three questions.\n",
    "\n"
   ]
  },
  {
   "cell_type": "code",
   "execution_count": 86,
   "id": "5a89aa1d",
   "metadata": {},
   "outputs": [],
   "source": [
    "bacon=[3.14,'cat',11,'cat',True]\n"
   ]
  },
  {
   "cell_type": "markdown",
   "id": "6ea6afc1",
   "metadata": {},
   "source": [
    "6. What is the value of bacon.index(&#39;cat&#39;)?\n"
   ]
  },
  {
   "cell_type": "code",
   "execution_count": 87,
   "id": "91c924bb",
   "metadata": {},
   "outputs": [
    {
     "data": {
      "text/plain": [
       "1"
      ]
     },
     "execution_count": 87,
     "metadata": {},
     "output_type": "execute_result"
    }
   ],
   "source": [
    "bacon.index('cat')"
   ]
  },
  {
   "cell_type": "markdown",
   "id": "ad89b03d",
   "metadata": {},
   "source": [
    "7. How does bacon.append(99) change the look of the list value in bacon?"
   ]
  },
  {
   "cell_type": "code",
   "execution_count": 88,
   "id": "a369d5cf",
   "metadata": {},
   "outputs": [
    {
     "data": {
      "text/plain": [
       "[3.14, 'cat', 11, 'cat', True, 99]"
      ]
     },
     "execution_count": 88,
     "metadata": {},
     "output_type": "execute_result"
    }
   ],
   "source": [
    "bacon.append(99)\n",
    "bacon"
   ]
  },
  {
   "cell_type": "markdown",
   "id": "bfb92dce",
   "metadata": {},
   "source": [
    "8. How does bacon.remove(&#39;cat&#39;) change the look of the list in bacon?"
   ]
  },
  {
   "cell_type": "code",
   "execution_count": 89,
   "id": "aaa13e4f",
   "metadata": {},
   "outputs": [
    {
     "data": {
      "text/plain": [
       "[3.14, 11, 'cat', True, 99]"
      ]
     },
     "execution_count": 89,
     "metadata": {},
     "output_type": "execute_result"
    }
   ],
   "source": [
    "bacon.remove('cat')\n",
    "bacon"
   ]
  },
  {
   "cell_type": "markdown",
   "id": "db2f477e",
   "metadata": {},
   "source": [
    "9. What are the list concatenation and list replication operators?"
   ]
  },
  {
   "cell_type": "code",
   "execution_count": null,
   "id": "02930f73",
   "metadata": {},
   "outputs": [],
   "source": [
    "listconcatenation is '+'operator  which is used concatinate the list.\n",
    "replicaton operator is '*' which is used to give the number of times of the list"
   ]
  },
  {
   "cell_type": "code",
   "execution_count": 90,
   "id": "b1151e90",
   "metadata": {},
   "outputs": [
    {
     "name": "stdout",
     "output_type": "stream",
     "text": [
      "[2, 3, 4, 4, 5, 6]\n"
     ]
    }
   ],
   "source": [
    "#ex for concatination\n",
    "list=[2,3,4]\n",
    "list1=[4,5,6]\n",
    "res=list +list1\n",
    "print(res)\n"
   ]
  },
  {
   "cell_type": "code",
   "execution_count": 92,
   "id": "3edfdb95",
   "metadata": {},
   "outputs": [
    {
     "data": {
      "text/plain": [
       "[2, 3, 4, 2, 3, 4, 2, 3, 4]"
      ]
     },
     "execution_count": 92,
     "metadata": {},
     "output_type": "execute_result"
    }
   ],
   "source": [
    "#ex for replication\n",
    "list=[2,3,4]\n",
    "res=list * 3\n",
    "res"
   ]
  },
  {
   "cell_type": "markdown",
   "id": "55ed0222",
   "metadata": {},
   "source": [
    "10. What is difference between the list methods append() and insert()?"
   ]
  },
  {
   "cell_type": "code",
   "execution_count": null,
   "id": "6ec32cca",
   "metadata": {},
   "outputs": [],
   "source": [
    "list method append() is used to  append the list and value to the list at the end ofthe list\n",
    "insert() will add the value in a specified index\n"
   ]
  },
  {
   "cell_type": "markdown",
   "id": "8adb0cb9",
   "metadata": {},
   "source": [
    "11. What are the two methods for removing items from a list?"
   ]
  },
  {
   "cell_type": "code",
   "execution_count": null,
   "id": "fc54f422",
   "metadata": {},
   "outputs": [],
   "source": [
    "remove() and pop() are two methods used to remove items from the lise"
   ]
  },
  {
   "cell_type": "markdown",
   "id": "bb34c745",
   "metadata": {},
   "source": [
    "12. Describe how list values and string values are identical."
   ]
  },
  {
   "cell_type": "code",
   "execution_count": null,
   "id": "8cc2a7d6",
   "metadata": {},
   "outputs": [],
   "source": [
    "Both list and string lengths are same. list will have items in thelist where as string has characters in it"
   ]
  },
  {
   "cell_type": "markdown",
   "id": "6ae78eef",
   "metadata": {},
   "source": [
    "13. What&#39;s the difference between tuples and lists?"
   ]
  },
  {
   "cell_type": "code",
   "execution_count": null,
   "id": "3b943b8f",
   "metadata": {},
   "outputs": [],
   "source": [
    "tuples are immutable where as list are mutable"
   ]
  },
  {
   "cell_type": "markdown",
   "id": "33899b68",
   "metadata": {},
   "source": [
    "14. How do you type a tuple value that only contains the integer 42?"
   ]
  },
  {
   "cell_type": "code",
   "execution_count": 93,
   "id": "bd443832",
   "metadata": {},
   "outputs": [
    {
     "name": "stdout",
     "output_type": "stream",
     "text": [
      "42\n"
     ]
    }
   ],
   "source": [
    "tuple =(42)\n",
    "print(tuple)"
   ]
  },
  {
   "cell_type": "markdown",
   "id": "b549920a",
   "metadata": {},
   "source": [
    "15. How do you get a list value&#39;s tuple form? How do you get a tuple value&#39;s list form?"
   ]
  },
  {
   "cell_type": "code",
   "execution_count": null,
   "id": "25b1f814",
   "metadata": {},
   "outputs": [],
   "source": [
    "by using tuple() and list() functions we can get list to tuples and tuple to list"
   ]
  },
  {
   "cell_type": "markdown",
   "id": "738817d7",
   "metadata": {},
   "source": [
    "16. Variables that &quot;contain&quot; list values are not necessarily lists themselves. Instead, what do they\n",
    "contain?"
   ]
  },
  {
   "cell_type": "code",
   "execution_count": null,
   "id": "4f2e9268",
   "metadata": {},
   "outputs": [],
   "source": [
    "it is called list of values.each value stored in a spam\n",
    "ex:list[1,2,3]\n",
    "    1 refered as spam0,2 as spam1,3 as spam2"
   ]
  },
  {
   "cell_type": "markdown",
   "id": "fcb10902",
   "metadata": {},
   "source": [
    "17. How do you distinguish between copy.copy() and copy.deepcopy()?"
   ]
  },
  {
   "cell_type": "code",
   "execution_count": null,
   "id": "ace58b2b",
   "metadata": {},
   "outputs": [],
   "source": [
    "copy() create reference to original object. If you change copied object - you change the original object. \n",
    "deepcopy() creates new object and does real copying of original object to new one"
   ]
  }
 ],
 "metadata": {
  "kernelspec": {
   "display_name": "Python 3 (ipykernel)",
   "language": "python",
   "name": "python3"
  },
  "language_info": {
   "codemirror_mode": {
    "name": "ipython",
    "version": 3
   },
   "file_extension": ".py",
   "mimetype": "text/x-python",
   "name": "python",
   "nbconvert_exporter": "python",
   "pygments_lexer": "ipython3",
   "version": "3.9.13"
  }
 },
 "nbformat": 4,
 "nbformat_minor": 5
}
